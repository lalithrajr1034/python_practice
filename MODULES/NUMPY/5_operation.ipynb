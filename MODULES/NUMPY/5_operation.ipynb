{
 "cells": [
  {
   "cell_type": "markdown",
   "id": "39b4c8f8",
   "metadata": {},
   "source": [
    "Basic operation's"
   ]
  },
  {
   "cell_type": "code",
   "execution_count": 2,
   "id": "4558cf6f",
   "metadata": {},
   "outputs": [],
   "source": [
    "import numpy as np"
   ]
  },
  {
   "cell_type": "code",
   "execution_count": 3,
   "id": "58ba436e",
   "metadata": {},
   "outputs": [],
   "source": [
    "oper1 = np.array([1,2,3,4,5,6])\n",
    "oper2 = np.arange(4, 10)"
   ]
  },
  {
   "cell_type": "code",
   "execution_count": 4,
   "id": "cd0330b1",
   "metadata": {},
   "outputs": [
    {
     "data": {
      "text/plain": [
       "array([-3, -3, -3, -3, -3, -3])"
      ]
     },
     "execution_count": 4,
     "metadata": {},
     "output_type": "execute_result"
    }
   ],
   "source": [
    "oper1 - oper2"
   ]
  },
  {
   "cell_type": "code",
   "execution_count": 5,
   "id": "49cc46b9",
   "metadata": {},
   "outputs": [
    {
     "data": {
      "text/plain": [
       "array([ 4, 10, 18, 28, 40, 54])"
      ]
     },
     "execution_count": 5,
     "metadata": {},
     "output_type": "execute_result"
    }
   ],
   "source": [
    "oper1 * oper2 # vector multiplication "
   ]
  },
  {
   "cell_type": "code",
   "execution_count": 6,
   "id": "51e651ba",
   "metadata": {},
   "outputs": [
    {
     "data": {
      "text/plain": [
       "array([ 2,  4,  6,  8, 10, 12])"
      ]
     },
     "execution_count": 6,
     "metadata": {},
     "output_type": "execute_result"
    }
   ],
   "source": [
    "oper1 * 2 #Scalar multiplication"
   ]
  },
  {
   "cell_type": "code",
   "execution_count": 7,
   "id": "e712a6be",
   "metadata": {},
   "outputs": [
    {
     "data": {
      "text/plain": [
       "array([False, False, False,  True,  True,  True])"
      ]
     },
     "execution_count": 7,
     "metadata": {},
     "output_type": "execute_result"
    }
   ],
   "source": [
    "oper1 > 3"
   ]
  },
  {
   "cell_type": "markdown",
   "id": "68abedb7",
   "metadata": {},
   "source": [
    "Matrix Multiplication \n"
   ]
  },
  {
   "cell_type": "code",
   "execution_count": 8,
   "id": "a763b962",
   "metadata": {},
   "outputs": [
    {
     "name": "stdout",
     "output_type": "stream",
     "text": [
      "[[0 1 2]\n",
      " [3 4 5]] \n",
      "\n",
      "\n",
      "[[ 6  7]\n",
      " [ 8  9]\n",
      " [10 11]]\n"
     ]
    }
   ],
   "source": [
    "oper3 = np.arange(6).reshape(2,3)\n",
    "oper4 = np.arange(6,12).reshape(3,2)\n",
    "print(oper3,\"\\n\\n\")\n",
    "print(oper4)"
   ]
  },
  {
   "cell_type": "code",
   "execution_count": 9,
   "id": "6cd9bd39",
   "metadata": {},
   "outputs": [
    {
     "data": {
      "text/plain": [
       "array([[ 28,  31],\n",
       "       [100, 112]])"
      ]
     },
     "execution_count": 9,
     "metadata": {},
     "output_type": "execute_result"
    }
   ],
   "source": [
    "oper3 .dot(oper4)"
   ]
  },
  {
   "cell_type": "code",
   "execution_count": 10,
   "id": "0ff5bc22",
   "metadata": {},
   "outputs": [
    {
     "data": {
      "text/plain": [
       "np.int64(11)"
      ]
     },
     "execution_count": 10,
     "metadata": {},
     "output_type": "execute_result"
    }
   ],
   "source": [
    "oper4.max()"
   ]
  },
  {
   "cell_type": "code",
   "execution_count": 11,
   "id": "b309d06b",
   "metadata": {},
   "outputs": [
    {
     "data": {
      "text/plain": [
       "array([ 6,  8, 10])"
      ]
     },
     "execution_count": 11,
     "metadata": {},
     "output_type": "execute_result"
    }
   ],
   "source": [
    "oper4.min(axis=1) #minimum of a each row"
   ]
  },
  {
   "cell_type": "code",
   "execution_count": 12,
   "id": "6a56c370",
   "metadata": {},
   "outputs": [
    {
     "data": {
      "text/plain": [
       "array([6, 7])"
      ]
     },
     "execution_count": 12,
     "metadata": {},
     "output_type": "execute_result"
    }
   ],
   "source": [
    "oper4.min(axis=0) #minimum of a each column"
   ]
  },
  {
   "cell_type": "code",
   "execution_count": 13,
   "id": "583f0468",
   "metadata": {},
   "outputs": [
    {
     "data": {
      "text/plain": [
       "np.int64(51)"
      ]
     },
     "execution_count": 13,
     "metadata": {},
     "output_type": "execute_result"
    }
   ],
   "source": [
    "oper4.sum()"
   ]
  },
  {
   "cell_type": "code",
   "execution_count": 14,
   "id": "5d241df5",
   "metadata": {},
   "outputs": [
    {
     "data": {
      "text/plain": [
       "array([24, 27])"
      ]
     },
     "execution_count": 14,
     "metadata": {},
     "output_type": "execute_result"
    }
   ],
   "source": [
    "oper4.sum(axis=0)# column addition"
   ]
  },
  {
   "cell_type": "code",
   "execution_count": 15,
   "id": "772c8209",
   "metadata": {},
   "outputs": [
    {
     "data": {
      "text/plain": [
       "array([13, 17, 21])"
      ]
     },
     "execution_count": 15,
     "metadata": {},
     "output_type": "execute_result"
    }
   ],
   "source": [
    "oper4.sum(axis=1)# row addition"
   ]
  },
  {
   "cell_type": "code",
   "execution_count": 16,
   "id": "081009df",
   "metadata": {},
   "outputs": [
    {
     "data": {
      "text/plain": [
       "array([8., 9.])"
      ]
     },
     "execution_count": 16,
     "metadata": {},
     "output_type": "execute_result"
    }
   ],
   "source": [
    "oper4.mean() \n",
    "oper4.mean(axis=0)"
   ]
  },
  {
   "cell_type": "code",
   "execution_count": 17,
   "id": "ebf354b7",
   "metadata": {},
   "outputs": [
    {
     "data": {
      "text/plain": [
       "np.float64(8.5)"
      ]
     },
     "execution_count": 17,
     "metadata": {},
     "output_type": "execute_result"
    }
   ],
   "source": [
    "np.mean(oper4) #np.float64(8.5)\n",
    "np.median(oper4)"
   ]
  },
  {
   "cell_type": "code",
   "execution_count": 18,
   "id": "52556b34",
   "metadata": {},
   "outputs": [
    {
     "data": {
      "text/plain": [
       "np.float64(1.707825127659933)"
      ]
     },
     "execution_count": 18,
     "metadata": {},
     "output_type": "execute_result"
    }
   ],
   "source": [
    "oper4.std()# this also has a axix"
   ]
  },
  {
   "cell_type": "code",
   "execution_count": 19,
   "id": "84e48d17",
   "metadata": {},
   "outputs": [
    {
     "data": {
      "text/plain": [
       "array([[-0.2794155 ,  0.6569866 ],\n",
       "       [ 0.98935825,  0.41211849],\n",
       "       [-0.54402111, -0.99999021]])"
      ]
     },
     "execution_count": 19,
     "metadata": {},
     "output_type": "execute_result"
    }
   ],
   "source": [
    "np.sin(oper4)#Trignometry"
   ]
  },
  {
   "cell_type": "code",
   "execution_count": 20,
   "id": "7e86ffba",
   "metadata": {},
   "outputs": [
    {
     "data": {
      "text/plain": [
       "array([[1.79175947, 1.94591015],\n",
       "       [2.07944154, 2.19722458],\n",
       "       [2.30258509, 2.39789527]])"
      ]
     },
     "execution_count": 20,
     "metadata": {},
     "output_type": "execute_result"
    }
   ],
   "source": [
    "np.log(oper4)"
   ]
  },
  {
   "cell_type": "code",
   "execution_count": null,
   "id": "877dff7c",
   "metadata": {},
   "outputs": [
    {
     "data": {
      "text/plain": [
       "'la'"
      ]
     },
     "execution_count": 27,
     "metadata": {},
     "output_type": "execute_result"
    }
   ],
   "source": [
    "lis = [\"l\", \"a\"]\n",
    "result = \"\".join(lis)\n",
    "result"
   ]
  },
  {
   "cell_type": "code",
   "execution_count": null,
   "id": "fe046689",
   "metadata": {},
   "outputs": [],
   "source": []
  }
 ],
 "metadata": {
  "kernelspec": {
   "display_name": "Python 3",
   "language": "python",
   "name": "python3"
  },
  "language_info": {
   "codemirror_mode": {
    "name": "ipython",
    "version": 3
   },
   "file_extension": ".py",
   "mimetype": "text/x-python",
   "name": "python",
   "nbconvert_exporter": "python",
   "pygments_lexer": "ipython3",
   "version": "3.13.2"
  }
 },
 "nbformat": 4,
 "nbformat_minor": 5
}
