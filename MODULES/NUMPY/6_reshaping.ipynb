{
 "cells": [
  {
   "cell_type": "markdown",
   "id": "8184f236",
   "metadata": {},
   "source": [
    "<h4>Reshaping the numpy array</h4>"
   ]
  },
  {
   "cell_type": "code",
   "execution_count": 1,
   "id": "0dd62fb2",
   "metadata": {},
   "outputs": [],
   "source": [
    "import numpy as np"
   ]
  },
  {
   "cell_type": "code",
   "execution_count": 13,
   "id": "12d6251f",
   "metadata": {},
   "outputs": [
    {
     "data": {
      "text/plain": [
       "array([[ 3,  5,  3],\n",
       "       [ 2, 34,  5],\n",
       "       [23,  4,  5]])"
      ]
     },
     "execution_count": 13,
     "metadata": {},
     "output_type": "execute_result"
    }
   ],
   "source": [
    "array = np.array([[3,5,3],[2,34,5],[23,4,5]])\n",
    "array"
   ]
  },
  {
   "cell_type": "code",
   "execution_count": null,
   "id": "feb7f0f7",
   "metadata": {},
   "outputs": [
    {
     "data": {
      "text/plain": [
       "array([ 3,  5,  3,  2, 34,  5, 23,  4,  5])"
      ]
     },
     "execution_count": 11,
     "metadata": {},
     "output_type": "execute_result"
    }
   ],
   "source": [
    "# this will convert higher dimension in to 1D array\n",
    "\n",
    "array.ravel()  # this will give 1d array\n",
    "#or np.ravel(array)  \n",
    "#object.method()      function--prefered to use\n",
    "array.flatten()# this will give a copy of 1d array"
   ]
  },
  {
   "cell_type": "code",
   "execution_count": 18,
   "id": "4cc84bd7",
   "metadata": {},
   "outputs": [
    {
     "data": {
      "text/plain": [
       "array([[ 3,  5,  3,  2, 34],\n",
       "       [ 5, 23,  4,  5, 45]])"
      ]
     },
     "execution_count": 18,
     "metadata": {},
     "output_type": "execute_result"
    }
   ],
   "source": [
    "arr1 = np.array([ 3,  5,  3,  2, 34,  5, 23,  4,  5, 45])\n",
    "arr1.reshape(2,5)\n"
   ]
  },
  {
   "cell_type": "code",
   "execution_count": 22,
   "id": "50112066",
   "metadata": {},
   "outputs": [
    {
     "data": {
      "text/plain": [
       "array([[ 3,  2, 23],\n",
       "       [ 5, 34,  4],\n",
       "       [ 3,  5,  5]])"
      ]
     },
     "execution_count": 22,
     "metadata": {},
     "output_type": "execute_result"
    }
   ],
   "source": [
    "np.transpose(array)  # or array.transpose()"
   ]
  },
  {
   "cell_type": "code",
   "execution_count": 26,
   "id": "ca89db6c",
   "metadata": {},
   "outputs": [
    {
     "data": {
      "text/plain": [
       "array([[ 6,  7,  8],\n",
       "       [ 9, 10, 11]])"
      ]
     },
     "execution_count": 26,
     "metadata": {},
     "output_type": "execute_result"
    }
   ],
   "source": [
    "arr2 = np.arange(6).reshape(2,3)\n",
    "arr3 = np.arange(6, 12).reshape(2,3)\n",
    "arr3"
   ]
  },
  {
   "cell_type": "code",
   "execution_count": 28,
   "id": "16ed2cab",
   "metadata": {},
   "outputs": [
    {
     "data": {
      "text/plain": [
       "array([[ 0,  1,  2,  6,  7,  8],\n",
       "       [ 3,  4,  5,  9, 10, 11]])"
      ]
     },
     "execution_count": 28,
     "metadata": {},
     "output_type": "execute_result"
    }
   ],
   "source": [
    "np.hstack((arr2, arr3)) # Horizontal stack ::: it joint the array column wise"
   ]
  },
  {
   "cell_type": "code",
   "execution_count": 31,
   "id": "64f17f62",
   "metadata": {},
   "outputs": [
    {
     "data": {
      "text/plain": [
       "array([[ 0,  1,  2],\n",
       "       [ 3,  4,  5],\n",
       "       [ 6,  7,  8],\n",
       "       [ 9, 10, 11]])"
      ]
     },
     "execution_count": 31,
     "metadata": {},
     "output_type": "execute_result"
    }
   ],
   "source": [
    "np.vstack((arr2,arr3)) #vertical stack ::: it joint the array in row wise"
   ]
  },
  {
   "cell_type": "code",
   "execution_count": 32,
   "id": "89adfa01",
   "metadata": {},
   "outputs": [
    {
     "data": {
      "text/plain": [
       "[array([[ 3],\n",
       "        [ 2],\n",
       "        [23]]),\n",
       " array([[ 5],\n",
       "        [34],\n",
       "        [ 4]]),\n",
       " array([[3],\n",
       "        [5],\n",
       "        [5]])]"
      ]
     },
     "execution_count": 32,
     "metadata": {},
     "output_type": "execute_result"
    }
   ],
   "source": [
    "    #    [ 3,  5,  3],\n",
    "    #    [ 2, 34,  5],\n",
    "    #    [23,  4,  5]\n",
    "\n",
    "np.hsplit(array,3)    \n",
    "    "
   ]
  },
  {
   "cell_type": "code",
   "execution_count": 33,
   "id": "fb903b90",
   "metadata": {},
   "outputs": [
    {
     "data": {
      "text/plain": [
       "[array([[3, 5, 3]]), array([[ 2, 34,  5]]), array([[23,  4,  5]])]"
      ]
     },
     "execution_count": 33,
     "metadata": {},
     "output_type": "execute_result"
    }
   ],
   "source": [
    "np.vsplit(array,3)"
   ]
  }
 ],
 "metadata": {
  "kernelspec": {
   "display_name": "Python 3",
   "language": "python",
   "name": "python3"
  },
  "language_info": {
   "codemirror_mode": {
    "name": "ipython",
    "version": 3
   },
   "file_extension": ".py",
   "mimetype": "text/x-python",
   "name": "python",
   "nbconvert_exporter": "python",
   "pygments_lexer": "ipython3",
   "version": "3.13.2"
  }
 },
 "nbformat": 4,
 "nbformat_minor": 5
}
