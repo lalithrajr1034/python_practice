{
 "cells": [
  {
   "cell_type": "markdown",
   "id": "0a72ac66",
   "metadata": {},
   "source": [
    "<h2>Readme Topics</h2>"
   ]
  },
  {
   "cell_type": "markdown",
   "id": "4a3b9aa1",
   "metadata": {},
   "source": [
    "📌 Array Creation</br>\n",
    "np.array()</br>\n",
    "np.zeros()</br>\n",
    "np.ones()</br>\n",
    "np.empty()</br>\n",
    "np.arange()</br>\n",
    "np.linspace()</br>\n",
    "np.eye() (identity matrix)</br>\n",
    "np.full()</br>\n",
    "np.random.rand(), np.random.randn(), np.random.randint()"
   ]
  },
  {
   "cell_type": "code",
   "execution_count": 1,
   "id": "4a7626ea",
   "metadata": {},
   "outputs": [],
   "source": [
    "import numpy as np"
   ]
  },
  {
   "cell_type": "code",
   "execution_count": null,
   "id": "3f52eee4",
   "metadata": {},
   "outputs": [
    {
     "data": {
      "text/plain": [
       "array([[0.00000000e+000, 0.00000000e+000, 0.00000000e+000,\n",
       "        0.00000000e+000, 0.00000000e+000],\n",
       "       [0.00000000e+000, 0.00000000e+000, 0.00000000e+000,\n",
       "        0.00000000e+000, 0.00000000e+000],\n",
       "       [0.00000000e+000, 0.00000000e+000, 0.00000000e+000,\n",
       "        0.00000000e+000, 2.66023306e-312]])"
      ]
     },
     "execution_count": 2,
     "metadata": {},
     "output_type": "execute_result"
    }
   ],
   "source": [
    "# numpy.empty(shape, dtype=float, order='C' or 'f')\n",
    "np.empty((3,5), order='f')"
   ]
  },
  {
   "cell_type": "code",
   "execution_count": 4,
   "id": "8232818b",
   "metadata": {},
   "outputs": [
    {
     "data": {
      "text/plain": [
       "array([[1., 0., 0., 0.],\n",
       "       [0., 1., 0., 0.],\n",
       "       [0., 0., 1., 0.],\n",
       "       [0., 0., 0., 1.]])"
      ]
     },
     "execution_count": 4,
     "metadata": {},
     "output_type": "execute_result"
    }
   ],
   "source": [
    "np.eye(4)"
   ]
  },
  {
   "cell_type": "code",
   "execution_count": 12,
   "id": "8358b674",
   "metadata": {},
   "outputs": [
    {
     "data": {
      "text/plain": [
       "array([[0., 0., 1., 0., 0.],\n",
       "       [0., 0., 0., 1., 0.],\n",
       "       [0., 0., 0., 0., 1.]])"
      ]
     },
     "execution_count": 12,
     "metadata": {},
     "output_type": "execute_result"
    }
   ],
   "source": [
    "np.identity(3)   #this will give a identity matrix of equal rows and column\n",
    "np.eye(3,5 ,k=2) # this is flexible we can shift the rows and column with identiy"
   ]
  },
  {
   "cell_type": "code",
   "execution_count": 14,
   "id": "741ad944",
   "metadata": {},
   "outputs": [
    {
     "data": {
      "text/plain": [
       "array([[78, 78, 78],\n",
       "       [78, 78, 78],\n",
       "       [78, 78, 78]])"
      ]
     },
     "execution_count": 14,
     "metadata": {},
     "output_type": "execute_result"
    }
   ],
   "source": [
    "# np.full( shape , fill_value , dtype ) :: here we are creating a matrix with our required value in a matrix\n",
    "np.full((3,3),78)"
   ]
  },
  {
   "cell_type": "code",
   "execution_count": null,
   "id": "62ce0c78",
   "metadata": {},
   "outputs": [
    {
     "data": {
      "text/plain": [
       "array([[0.63089861, 0.98941463, 0.09686127, 0.07728317, 0.57335301],\n",
       "       [0.14051121, 0.92682619, 0.48889775, 0.46028793, 0.25338169],\n",
       "       [0.09876413, 0.89996475, 0.28325531, 0.4904556 , 0.44502177]])"
      ]
     },
     "execution_count": 22,
     "metadata": {},
     "output_type": "execute_result"
    }
   ],
   "source": [
    "# Random thing\n",
    "# generates niform distribution between 0 and 1\n",
    "np.random.rand()  #0.9363802912698569\n",
    "np.random.rand(3,5)"
   ]
  },
  {
   "cell_type": "code",
   "execution_count": 24,
   "id": "0559e74a",
   "metadata": {},
   "outputs": [
    {
     "data": {
      "text/plain": [
       "0.3096429611887318"
      ]
     },
     "execution_count": 24,
     "metadata": {},
     "output_type": "execute_result"
    }
   ],
   "source": [
    "#generates standard normanl distribution(BELL CURVE), mean=0, std=1\n",
    "np.random.randn()"
   ]
  },
  {
   "cell_type": "code",
   "execution_count": 35,
   "id": "ffecd9ee",
   "metadata": {},
   "outputs": [
    {
     "data": {
      "text/plain": [
       "array([[24, 46, 31, 39],\n",
       "       [49, 16, 48, 24],\n",
       "       [26, 41, 48, 48]], dtype=int32)"
      ]
     },
     "execution_count": 35,
     "metadata": {},
     "output_type": "execute_result"
    }
   ],
   "source": [
    "np.random.randint(11,53)    #single value in between 1-3\n",
    "np.random.randint(5)        #single value in between 0-5\n",
    "np.random.randint(1,10,3)   #3 value in between 1-10\n",
    "np.random.randint(10,50,(3,4))"
   ]
  },
  {
   "cell_type": "markdown",
   "id": "80876b26",
   "metadata": {},
   "source": [
    "📌 Array Manipulation<br>\n",
    "np.reshape()<br>\n",
    "np.transpose() or .T<br>\n",
    "np.concatenate()<br>\n",
    "np.vstack(), np.hstack()<br>\n",
    "np.split(), np.hsplit(), np.vsplit(), np.array_split()<br>\n",
    "np.squeeze(), np.expand_dims()<br>\n",
    "\n"
   ]
  },
  {
   "cell_type": "code",
   "execution_count": null,
   "id": "a51da235",
   "metadata": {},
   "outputs": [],
   "source": []
  }
 ],
 "metadata": {
  "kernelspec": {
   "display_name": "Python 3",
   "language": "python",
   "name": "python3"
  },
  "language_info": {
   "codemirror_mode": {
    "name": "ipython",
    "version": 3
   },
   "file_extension": ".py",
   "mimetype": "text/x-python",
   "name": "python",
   "nbconvert_exporter": "python",
   "pygments_lexer": "ipython3",
   "version": "3.13.2"
  }
 },
 "nbformat": 4,
 "nbformat_minor": 5
}
