{
 "cells": [
  {
   "cell_type": "markdown",
   "id": "0a72ac66",
   "metadata": {},
   "source": [
    "<h2>Readme Topics</h2>"
   ]
  },
  {
   "cell_type": "markdown",
   "id": "4a3b9aa1",
   "metadata": {},
   "source": [
    "📌 Array Creation</br>\n",
    "np.array()</br>\n",
    "np.zeros()</br>\n",
    "np.ones()</br>\n",
    "np.empty()</br>\n",
    "np.arange()</br>\n",
    "np.linspace()</br>\n",
    "np.eye() (identity matrix)</br>\n",
    "np.full()</br>\n",
    "np.random.rand(), np.random.randn(), np.random.randint()"
   ]
  },
  {
   "cell_type": "code",
   "execution_count": 6,
   "id": "4a7626ea",
   "metadata": {},
   "outputs": [],
   "source": [
    "import numpy as np"
   ]
  },
  {
   "cell_type": "code",
   "execution_count": 7,
   "id": "3f52eee4",
   "metadata": {},
   "outputs": [
    {
     "data": {
      "text/plain": [
       "array([[0.e+000, 0.e+000, 0.e+000, 0.e+000, 0.e+000],\n",
       "       [0.e+000, 0.e+000, 0.e+000, 0.e+000, 0.e+000],\n",
       "       [0.e+000, 0.e+000, 0.e+000, 0.e+000, 6.e-322]])"
      ]
     },
     "execution_count": 7,
     "metadata": {},
     "output_type": "execute_result"
    }
   ],
   "source": [
    "# numpy.empty(shape, dtype=float, order='C' or 'f')\n",
    "np.empty((3,5), order='f')"
   ]
  },
  {
   "cell_type": "code",
   "execution_count": 8,
   "id": "8232818b",
   "metadata": {},
   "outputs": [
    {
     "data": {
      "text/plain": [
       "array([[1., 0., 0., 0.],\n",
       "       [0., 1., 0., 0.],\n",
       "       [0., 0., 1., 0.],\n",
       "       [0., 0., 0., 1.]])"
      ]
     },
     "execution_count": 8,
     "metadata": {},
     "output_type": "execute_result"
    }
   ],
   "source": [
    "np.eye(4)"
   ]
  },
  {
   "cell_type": "code",
   "execution_count": 9,
   "id": "8358b674",
   "metadata": {},
   "outputs": [
    {
     "data": {
      "text/plain": [
       "array([[0., 0., 1., 0., 0.],\n",
       "       [0., 0., 0., 1., 0.],\n",
       "       [0., 0., 0., 0., 1.]])"
      ]
     },
     "execution_count": 9,
     "metadata": {},
     "output_type": "execute_result"
    }
   ],
   "source": [
    "np.identity(3)   #this will give a identity matrix of equal rows and column\n",
    "np.eye(3,5 ,k=2) # this is flexible we can shift the rows and column with identiy"
   ]
  },
  {
   "cell_type": "code",
   "execution_count": 10,
   "id": "741ad944",
   "metadata": {},
   "outputs": [
    {
     "data": {
      "text/plain": [
       "array([[78, 78, 78],\n",
       "       [78, 78, 78],\n",
       "       [78, 78, 78]])"
      ]
     },
     "execution_count": 10,
     "metadata": {},
     "output_type": "execute_result"
    }
   ],
   "source": [
    "# np.full( shape , fill_value , dtype ) :: here we are creating a matrix with our required value in a matrix\n",
    "np.full((3,3),78)"
   ]
  },
  {
   "cell_type": "code",
   "execution_count": 11,
   "id": "62ce0c78",
   "metadata": {},
   "outputs": [
    {
     "data": {
      "text/plain": [
       "array([[0.31512805, 0.279898  , 0.34230944, 0.42086375, 0.11358752],\n",
       "       [0.00301042, 0.46047711, 0.65473639, 0.54572574, 0.16871914],\n",
       "       [0.44557394, 0.54910956, 0.61215147, 0.68462047, 0.56995638]])"
      ]
     },
     "execution_count": 11,
     "metadata": {},
     "output_type": "execute_result"
    }
   ],
   "source": [
    "# Random thing\n",
    "# generates niform distribution between 0 and 1\n",
    "np.random.rand()  #0.9363802912698569\n",
    "np.random.rand(3,5)"
   ]
  },
  {
   "cell_type": "code",
   "execution_count": 12,
   "id": "0559e74a",
   "metadata": {},
   "outputs": [
    {
     "data": {
      "text/plain": [
       "2.0928323227176606"
      ]
     },
     "execution_count": 12,
     "metadata": {},
     "output_type": "execute_result"
    }
   ],
   "source": [
    "#generates standard normanl distribution(BELL CURVE), mean=0, std=1\n",
    "np.random.randn()"
   ]
  },
  {
   "cell_type": "code",
   "execution_count": 13,
   "id": "ffecd9ee",
   "metadata": {},
   "outputs": [
    {
     "data": {
      "text/plain": [
       "array([[15, 40, 48, 11],\n",
       "       [12, 20, 49, 33],\n",
       "       [35, 38, 48, 11]], dtype=int32)"
      ]
     },
     "execution_count": 13,
     "metadata": {},
     "output_type": "execute_result"
    }
   ],
   "source": [
    "np.random.randint(11,53)    #single value in between 1-3\n",
    "np.random.randint(5)        #single value in between 0-5\n",
    "np.random.randint(1,10,3)   #3 value in between 1-10\n",
    "np.random.randint(10,50,(3,4))"
   ]
  },
  {
   "cell_type": "markdown",
   "id": "80876b26",
   "metadata": {},
   "source": [
    "📌 Array Manipulation<br>\n",
    "np.reshape()<br>\n",
    "np.transpose() or .T<br>\n",
    "np.concatenate()<br>\n",
    "np.vstack(), np.hstack()<br>\n",
    "np.split(), np.hsplit(), np.vsplit(), np.array_split()<br>\n",
    "np.squeeze(), np.expand_dims()<br>\n",
    "\n"
   ]
  },
  {
   "cell_type": "code",
   "execution_count": 14,
   "id": "a51da235",
   "metadata": {},
   "outputs": [
    {
     "data": {
      "text/plain": [
       "array([[1, 2, 3],\n",
       "       [4, 5, 6],\n",
       "       [7, 8, 9]])"
      ]
     },
     "execution_count": 14,
     "metadata": {},
     "output_type": "execute_result"
    }
   ],
   "source": [
    "array = np.arange(1,10).reshape(3,3)\n",
    "array"
   ]
  },
  {
   "cell_type": "markdown",
   "id": "92ff98b7",
   "metadata": {},
   "source": [
    "<h4>Transpose</h4>"
   ]
  },
  {
   "cell_type": "code",
   "execution_count": 15,
   "id": "0e94a1b2",
   "metadata": {},
   "outputs": [
    {
     "data": {
      "text/plain": [
       "array([[1, 4, 7],\n",
       "       [2, 5, 8],\n",
       "       [3, 6, 9]])"
      ]
     },
     "execution_count": 15,
     "metadata": {},
     "output_type": "execute_result"
    }
   ],
   "source": [
    "array.T"
   ]
  },
  {
   "cell_type": "code",
   "execution_count": 16,
   "id": "d1c82609",
   "metadata": {},
   "outputs": [
    {
     "name": "stdout",
     "output_type": "stream",
     "text": [
      "[[[ 0  1  2  3]\n",
      "  [ 4  5  6  7]\n",
      "  [ 8  9 10 11]]\n",
      "\n",
      " [[12 13 14 15]\n",
      "  [16 17 18 19]\n",
      "  [20 21 22 23]]]\n",
      "(2, 3, 4)\n",
      "(3, 2, 4)\n",
      "[[[ 0  1  2  3]\n",
      "  [ 4  5  6  7]\n",
      "  [ 8  9 10 11]]\n",
      "\n",
      " [[12 13 14 15]\n",
      "  [16 17 18 19]\n",
      "  [20 21 22 23]]]\n"
     ]
    }
   ],
   "source": [
    "b = np.arange(24).reshape(2, 3, 4)\n",
    "print(b)\n",
    "print(b.shape)   # (2, 3, 4)\n",
    "\n",
    "# Reorder dimensions (swap axis 0 and 1)\n",
    "print(b.transpose(1, 0, 2).shape)  # (3, 2, 4)\n",
    "print(b)"
   ]
  },
  {
   "cell_type": "code",
   "execution_count": null,
   "id": "8e6d8d04",
   "metadata": {},
   "outputs": [
    {
     "data": {
      "text/plain": [
       "array([[[ 2,  2],\n",
       "        [ 3,  3],\n",
       "        [54,  4],\n",
       "        [ 4,  5]],\n",
       "\n",
       "       [[ 4,  3],\n",
       "        [56,  4],\n",
       "        [75, 56],\n",
       "        [43,  6]]])"
      ]
     },
     "execution_count": 27,
     "metadata": {},
     "output_type": "execute_result"
    }
   ],
   "source": [
    "arra = np.array([[[2,3,54,4],[2,3,4,5]],\n",
    "                 [[4,56,75,43],[3,4,56,6]]\n",
    "                                       ])\n",
    "arra.shape #(2, 2, 4) (depth, row, column)\n",
    "arra.transpose(0,2,1) # this will specify the index of the shape "
   ]
  },
  {
   "cell_type": "code",
   "execution_count": null,
   "id": "e57a1cd7",
   "metadata": {},
   "outputs": [
    {
     "name": "stdout",
     "output_type": "stream",
     "text": [
      "[[[ 0  1]\n",
      "  [ 2  3]]\n",
      "\n",
      " [[ 4  5]\n",
      "  [ 6  7]]\n",
      "\n",
      " [[10 11]\n",
      "  [12 13]]\n",
      "\n",
      " [[14 15]\n",
      "  [16 17]]] \n",
      "\n",
      "\n",
      "[[[ 0  1]\n",
      "  [ 2  3]\n",
      "  [10 11]\n",
      "  [12 13]]\n",
      "\n",
      " [[ 4  5]\n",
      "  [ 6  7]\n",
      "  [14 15]\n",
      "  [16 17]]]\n",
      "[[[ 0  1 10 11]\n",
      "  [ 2  3 12 13]]\n",
      "\n",
      " [[ 4  5 14 15]\n",
      "  [ 6  7 16 17]]]\n"
     ]
    }
   ],
   "source": [
    "array1 = np.array([[[0, 1], [2, 3]], [[4, 5], [6, 7]]])\n",
    "array2 = np.array([[[10, 11], [12, 13]], [[14, 15], [16, 17]]])\n",
    "\n",
    "print(np.concatenate((array1, array2), axis=0),\"\\n\\n\")\n",
    "# Adds new blocks along the first axis\n",
    "\n",
    "print(np.concatenate((array1, array2), axis=1))\n",
    "# Merges along the second axis (rows)\n",
    "\n",
    "print(np.concatenate((array1, array2), axis=2))\n",
    "# Merges along the third axis (depth)\n"
   ]
  },
  {
   "cell_type": "code",
   "execution_count": null,
   "id": "8c80d138",
   "metadata": {},
   "outputs": [],
   "source": []
  }
 ],
 "metadata": {
  "kernelspec": {
   "display_name": "Python 3",
   "language": "python",
   "name": "python3"
  },
  "language_info": {
   "codemirror_mode": {
    "name": "ipython",
    "version": 3
   },
   "file_extension": ".py",
   "mimetype": "text/x-python",
   "name": "python",
   "nbconvert_exporter": "python",
   "pygments_lexer": "ipython3",
   "version": "3.13.2"
  }
 },
 "nbformat": 4,
 "nbformat_minor": 5
}
