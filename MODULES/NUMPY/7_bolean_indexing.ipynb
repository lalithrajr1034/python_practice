{
 "cells": [
  {
   "cell_type": "markdown",
   "id": "ed08ed71",
   "metadata": {},
   "source": [
    "<h3> Indexing with boolean array</h3>"
   ]
  },
  {
   "cell_type": "code",
   "execution_count": 1,
   "id": "846c15f4",
   "metadata": {},
   "outputs": [],
   "source": [
    "import numpy as np"
   ]
  },
  {
   "cell_type": "code",
   "execution_count": 2,
   "id": "f9017d27",
   "metadata": {},
   "outputs": [
    {
     "data": {
      "text/plain": [
       "array([[ 2, 14, 92, 71, 25],\n",
       "       [25, 56,  2,  8, 58],\n",
       "       [56, 75, 95, 19, 27],\n",
       "       [24, 25, 85, 52, 36]], dtype=int32)"
      ]
     },
     "execution_count": 2,
     "metadata": {},
     "output_type": "execute_result"
    }
   ],
   "source": [
    "array = np.random.randint(low=1, high=100, size=20).reshape(4, 5)\n",
    "array"
   ]
  },
  {
   "cell_type": "code",
   "execution_count": 3,
   "id": "3dc2e9c4",
   "metadata": {},
   "outputs": [
    {
     "data": {
      "text/plain": [
       "array([[False, False,  True,  True, False],\n",
       "       [False,  True, False, False,  True],\n",
       "       [ True,  True,  True, False, False],\n",
       "       [False, False,  True,  True, False]])"
      ]
     },
     "execution_count": 3,
     "metadata": {},
     "output_type": "execute_result"
    }
   ],
   "source": [
    "array > 50"
   ]
  },
  {
   "cell_type": "code",
   "execution_count": 4,
   "id": "25badf38",
   "metadata": {},
   "outputs": [
    {
     "data": {
      "text/plain": [
       "array([92, 71, 56, 58, 56, 75, 95, 85, 52], dtype=int32)"
      ]
     },
     "execution_count": 4,
     "metadata": {},
     "output_type": "execute_result"
    }
   ],
   "source": [
    "array[array > 50]"
   ]
  },
  {
   "cell_type": "code",
   "execution_count": 7,
   "id": "5adf8a7c",
   "metadata": {},
   "outputs": [
    {
     "data": {
      "text/plain": [
       "array([92, 56, 58, 56, 52], dtype=int32)"
      ]
     },
     "execution_count": 7,
     "metadata": {},
     "output_type": "execute_result"
    }
   ],
   "source": [
    "array[(array>50) & (array%2 ==0)] # we use a '&' and because this operation is mading using bolean balue"
   ]
  },
  {
   "cell_type": "code",
   "execution_count": 9,
   "id": "f733c307",
   "metadata": {},
   "outputs": [
    {
     "data": {
      "text/plain": [
       "array([[ 2, 14,  0, 71, 25],\n",
       "       [25,  0,  2,  8,  0],\n",
       "       [ 0, 75, 95, 19, 27],\n",
       "       [24, 25, 85,  0, 36]], dtype=int32)"
      ]
     },
     "execution_count": 9,
     "metadata": {},
     "output_type": "execute_result"
    }
   ],
   "source": [
    "array[(array>50) & (array%2 ==0)] = 0\n",
    "array  # making a matrix value as a zero"
   ]
  },
  {
   "cell_type": "code",
   "execution_count": null,
   "id": "608e70a2",
   "metadata": {},
   "outputs": [],
   "source": []
  }
 ],
 "metadata": {
  "kernelspec": {
   "display_name": "Python 3",
   "language": "python",
   "name": "python3"
  },
  "language_info": {
   "codemirror_mode": {
    "name": "ipython",
    "version": 3
   },
   "file_extension": ".py",
   "mimetype": "text/x-python",
   "name": "python",
   "nbconvert_exporter": "python",
   "pygments_lexer": "ipython3",
   "version": "3.13.2"
  }
 },
 "nbformat": 4,
 "nbformat_minor": 5
}
