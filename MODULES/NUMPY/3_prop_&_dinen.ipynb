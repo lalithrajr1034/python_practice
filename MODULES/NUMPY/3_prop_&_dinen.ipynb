{
 "cells": [
  {
   "cell_type": "markdown",
   "id": "2d032732",
   "metadata": {},
   "source": [
    "Properties and dimension\n",
    "\n",
    "1.Shape\n",
    "2.nDim\n",
    "3.Size\n",
    "4.Itemseze\n",
    "5.Dtype\n",
    "6.astype() \n"
   ]
  },
  {
   "cell_type": "code",
   "execution_count": 44,
   "id": "289b32e6",
   "metadata": {},
   "outputs": [],
   "source": [
    "import numpy as np"
   ]
  },
  {
   "cell_type": "code",
   "execution_count": 45,
   "id": "d26782fb",
   "metadata": {},
   "outputs": [
    {
     "data": {
      "text/plain": [
       "array([[1., 1., 1., 1., 1.],\n",
       "       [1., 1., 1., 1., 1.],\n",
       "       [1., 1., 1., 1., 1.]])"
      ]
     },
     "execution_count": 45,
     "metadata": {},
     "output_type": "execute_result"
    }
   ],
   "source": [
    "val = np.ones((3,5))\n",
    "val"
   ]
  },
  {
   "cell_type": "code",
   "execution_count": 46,
   "id": "9c61eb40",
   "metadata": {},
   "outputs": [
    {
     "data": {
      "text/plain": [
       "(3, 5)"
      ]
     },
     "execution_count": 46,
     "metadata": {},
     "output_type": "execute_result"
    }
   ],
   "source": [
    "shape1 =  val.shape\n",
    "shape1"
   ]
  },
  {
   "cell_type": "code",
   "execution_count": 47,
   "id": "d82ccc1c",
   "metadata": {},
   "outputs": [
    {
     "data": {
      "text/plain": [
       "array([[[34, 34],\n",
       "        [34, 34],\n",
       "        [34,  3]],\n",
       "\n",
       "       [[34,  4],\n",
       "        [34,  4],\n",
       "        [34,  4]]])"
      ]
     },
     "execution_count": 47,
     "metadata": {},
     "output_type": "execute_result"
    }
   ],
   "source": [
    "val2 = np.array([ [[34, 34], [34, 34], [34, 3] ],[ [34, 4],  [34, 4],  [34, 4] ]])\n",
    "val2"
   ]
  },
  {
   "cell_type": "code",
   "execution_count": 48,
   "id": "b342a40c",
   "metadata": {},
   "outputs": [
    {
     "data": {
      "text/plain": [
       "(2, 3, 2)"
      ]
     },
     "execution_count": 48,
     "metadata": {},
     "output_type": "execute_result"
    }
   ],
   "source": [
    "shape2 = val2.shape\n",
    "shape2  #(2, 3, 2)  (2 matrix, 3 rows, 2 column)"
   ]
  },
  {
   "cell_type": "code",
   "execution_count": 49,
   "id": "afa6cf61",
   "metadata": {},
   "outputs": [
    {
     "name": "stdout",
     "output_type": "stream",
     "text": [
      "Dimension is  3\n"
     ]
    },
    {
     "data": {
      "text/plain": [
       "(3, 2, 2)"
      ]
     },
     "execution_count": 49,
     "metadata": {},
     "output_type": "execute_result"
    }
   ],
   "source": [
    "a= np.array([[[34,4],[4,4]],\n",
    "              [[3,5],[5,6]], \n",
    "              [[3,4],[4,56]]])\n",
    "aa = a.shape\n",
    "print(\"Dimension is \",a.ndim)\n",
    "aa"
   ]
  },
  {
   "cell_type": "code",
   "execution_count": 50,
   "id": "a339c5cc",
   "metadata": {},
   "outputs": [
    {
     "data": {
      "text/plain": [
       "12"
      ]
     },
     "execution_count": 50,
     "metadata": {},
     "output_type": "execute_result"
    }
   ],
   "source": [
    "#val2 = np.array([ [[34, 34], [34, 34], [34, 3] ],[ [34, 4],  [34, 4],  [34, 4] ], dtype=np.float32])\n",
    "size = val2.size\n",
    "size"
   ]
  },
  {
   "cell_type": "code",
   "execution_count": 51,
   "id": "92b0d7d4",
   "metadata": {},
   "outputs": [
    {
     "data": {
      "text/plain": [
       "8"
      ]
     },
     "execution_count": 51,
     "metadata": {},
     "output_type": "execute_result"
    }
   ],
   "source": [
    "#itemsize :::  it will give a size according to size of each item like int: 4, float:8  but for 64 bit system int and float size are same \n",
    "# to change it { dtype = np.int32 }\n",
    "\n",
    "itsize2 = val2.itemsize\n",
    "itsize2"
   ]
  },
  {
   "cell_type": "code",
   "execution_count": 52,
   "id": "b4c7e94a",
   "metadata": {},
   "outputs": [
    {
     "data": {
      "text/plain": [
       "dtype('int64')"
      ]
     },
     "execution_count": 52,
     "metadata": {},
     "output_type": "execute_result"
    }
   ],
   "source": [
    "val2.dtype"
   ]
  },
  {
   "cell_type": "code",
   "execution_count": 53,
   "id": "5cfd5b8a",
   "metadata": {},
   "outputs": [
    {
     "data": {
      "text/plain": [
       "array([[[34., 34.],\n",
       "        [34., 34.],\n",
       "        [34.,  3.]],\n",
       "\n",
       "       [[34.,  4.],\n",
       "        [34.,  4.],\n",
       "        [34.,  4.]]])"
      ]
     },
     "execution_count": 53,
     "metadata": {},
     "output_type": "execute_result"
    }
   ],
   "source": [
    "val2.astype(\"float\")  #here we can convert the datatype of numpy array\n",
    "# it is used when cleaning data"
   ]
  },
  {
   "cell_type": "code",
   "execution_count": null,
   "id": "ee801ce4",
   "metadata": {},
   "outputs": [],
   "source": []
  },
  {
   "cell_type": "code",
   "execution_count": null,
   "id": "92c64f92",
   "metadata": {},
   "outputs": [],
   "source": []
  }
 ],
 "metadata": {
  "kernelspec": {
   "display_name": "Python 3",
   "language": "python",
   "name": "python3"
  },
  "language_info": {
   "codemirror_mode": {
    "name": "ipython",
    "version": 3
   },
   "file_extension": ".py",
   "mimetype": "text/x-python",
   "name": "python",
   "nbconvert_exporter": "python",
   "pygments_lexer": "ipython3",
   "version": "3.13.2"
  }
 },
 "nbformat": 4,
 "nbformat_minor": 5
}
