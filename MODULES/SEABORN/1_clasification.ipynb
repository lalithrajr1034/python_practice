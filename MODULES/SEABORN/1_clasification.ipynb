{
 "cells": [
  {
   "cell_type": "markdown",
   "id": "148a1470-f4c2-46e9-a188-7465abfcf105",
   "metadata": {},
   "source": [
    "-Relational<br>\n",
    "  scatterplot<br>\n",
    "  lineplot<br>\n",
    "  \n",
    "-Distribution plot<br>\n",
    "  Histogram<br>\n",
    "  kdeplot<br>\n",
    "  rugplot<br>\n",
    "\n",
    "-Categorical plot<br>\n",
    "  barpolt<br>\n",
    "  countplot<br>\n",
    "  boxplot<br>\n",
    "  violinplot<br>\n",
    "  swanplot<br>\n",
    "\n",
    "-Matrix plot<br>\n",
    "  Heatmap<br>\n",
    "  clustermap<br>\n",
    "\n",
    "-Multi plot<br>\n",
    "  Jointplot<br>\n",
    "  pairplot<br>\n",
    "\n",
    "-Regresion plot<br> "
   ]
  },
  {
   "cell_type": "code",
   "execution_count": 8,
   "id": "5f6e001d-c5a7-4c0b-b470-f98b292d6f6d",
   "metadata": {},
   "outputs": [],
   "source": [
    "url_collab = https://colab.research.google.com/drive/1_Mk2NWYBzNxICokEtJFxsf6haq_1YIDA?usp=sharing"
   ]
  }
 ],
 "metadata": {
  "kernelspec": {
   "display_name": "Python [conda env:base] *",
   "language": "python",
   "name": "conda-base-py"
  },
  "language_info": {
   "codemirror_mode": {
    "name": "ipython",
    "version": 3
   },
   "file_extension": ".py",
   "mimetype": "text/x-python",
   "name": "python",
   "nbconvert_exporter": "python",
   "pygments_lexer": "ipython3",
   "version": "3.12.3"
  }
 },
 "nbformat": 4,
 "nbformat_minor": 5
}
