{
 "cells": [
  {
   "cell_type": "code",
   "execution_count": 1,
   "id": "af5bc1f2",
   "metadata": {},
   "outputs": [],
   "source": [
    "import pandas as pd"
   ]
  },
  {
   "cell_type": "code",
   "execution_count": 2,
   "id": "9fceff6f",
   "metadata": {},
   "outputs": [],
   "source": [
    "data = pd.read_csv('matches.csv')"
   ]
  },
  {
   "cell_type": "code",
   "execution_count": 3,
   "id": "5740a802",
   "metadata": {},
   "outputs": [
    {
     "data": {
      "text/plain": [
       "0              Sunrisers Hyderabad\n",
       "1           Rising Pune Supergiant\n",
       "2            Kolkata Knight Riders\n",
       "3                  Kings XI Punjab\n",
       "4      Royal Challengers Bangalore\n",
       "                  ...             \n",
       "631    Royal Challengers Bangalore\n",
       "632    Royal Challengers Bangalore\n",
       "633            Sunrisers Hyderabad\n",
       "634            Sunrisers Hyderabad\n",
       "635            Sunrisers Hyderabad\n",
       "Name: winner, Length: 636, dtype: object"
      ]
     },
     "execution_count": 3,
     "metadata": {},
     "output_type": "execute_result"
    }
   ],
   "source": [
    "# fetch the requtred cloiumn data\n",
    "# this is series data type\n",
    "data[\"winner\"] "
   ]
  },
  {
   "cell_type": "code",
   "execution_count": 4,
   "id": "2eaad63f",
   "metadata": {},
   "outputs": [
    {
     "data": {
      "text/html": [
       "<div>\n",
       "<style scoped>\n",
       "    .dataframe tbody tr th:only-of-type {\n",
       "        vertical-align: middle;\n",
       "    }\n",
       "\n",
       "    .dataframe tbody tr th {\n",
       "        vertical-align: top;\n",
       "    }\n",
       "\n",
       "    .dataframe thead th {\n",
       "        text-align: right;\n",
       "    }\n",
       "</style>\n",
       "<table border=\"1\" class=\"dataframe\">\n",
       "  <thead>\n",
       "    <tr style=\"text-align: right;\">\n",
       "      <th></th>\n",
       "      <th>team1</th>\n",
       "      <th>team2</th>\n",
       "      <th>winner</th>\n",
       "    </tr>\n",
       "  </thead>\n",
       "  <tbody>\n",
       "    <tr>\n",
       "      <th>0</th>\n",
       "      <td>Sunrisers Hyderabad</td>\n",
       "      <td>Royal Challengers Bangalore</td>\n",
       "      <td>Sunrisers Hyderabad</td>\n",
       "    </tr>\n",
       "    <tr>\n",
       "      <th>1</th>\n",
       "      <td>Mumbai Indians</td>\n",
       "      <td>Rising Pune Supergiant</td>\n",
       "      <td>Rising Pune Supergiant</td>\n",
       "    </tr>\n",
       "    <tr>\n",
       "      <th>2</th>\n",
       "      <td>Gujarat Lions</td>\n",
       "      <td>Kolkata Knight Riders</td>\n",
       "      <td>Kolkata Knight Riders</td>\n",
       "    </tr>\n",
       "    <tr>\n",
       "      <th>3</th>\n",
       "      <td>Rising Pune Supergiant</td>\n",
       "      <td>Kings XI Punjab</td>\n",
       "      <td>Kings XI Punjab</td>\n",
       "    </tr>\n",
       "    <tr>\n",
       "      <th>4</th>\n",
       "      <td>Royal Challengers Bangalore</td>\n",
       "      <td>Delhi Daredevils</td>\n",
       "      <td>Royal Challengers Bangalore</td>\n",
       "    </tr>\n",
       "    <tr>\n",
       "      <th>...</th>\n",
       "      <td>...</td>\n",
       "      <td>...</td>\n",
       "      <td>...</td>\n",
       "    </tr>\n",
       "    <tr>\n",
       "      <th>631</th>\n",
       "      <td>Delhi Daredevils</td>\n",
       "      <td>Royal Challengers Bangalore</td>\n",
       "      <td>Royal Challengers Bangalore</td>\n",
       "    </tr>\n",
       "    <tr>\n",
       "      <th>632</th>\n",
       "      <td>Gujarat Lions</td>\n",
       "      <td>Royal Challengers Bangalore</td>\n",
       "      <td>Royal Challengers Bangalore</td>\n",
       "    </tr>\n",
       "    <tr>\n",
       "      <th>633</th>\n",
       "      <td>Sunrisers Hyderabad</td>\n",
       "      <td>Kolkata Knight Riders</td>\n",
       "      <td>Sunrisers Hyderabad</td>\n",
       "    </tr>\n",
       "    <tr>\n",
       "      <th>634</th>\n",
       "      <td>Gujarat Lions</td>\n",
       "      <td>Sunrisers Hyderabad</td>\n",
       "      <td>Sunrisers Hyderabad</td>\n",
       "    </tr>\n",
       "    <tr>\n",
       "      <th>635</th>\n",
       "      <td>Sunrisers Hyderabad</td>\n",
       "      <td>Royal Challengers Bangalore</td>\n",
       "      <td>Sunrisers Hyderabad</td>\n",
       "    </tr>\n",
       "  </tbody>\n",
       "</table>\n",
       "<p>636 rows × 3 columns</p>\n",
       "</div>"
      ],
      "text/plain": [
       "                           team1                        team2  \\\n",
       "0            Sunrisers Hyderabad  Royal Challengers Bangalore   \n",
       "1                 Mumbai Indians       Rising Pune Supergiant   \n",
       "2                  Gujarat Lions        Kolkata Knight Riders   \n",
       "3         Rising Pune Supergiant              Kings XI Punjab   \n",
       "4    Royal Challengers Bangalore             Delhi Daredevils   \n",
       "..                           ...                          ...   \n",
       "631             Delhi Daredevils  Royal Challengers Bangalore   \n",
       "632                Gujarat Lions  Royal Challengers Bangalore   \n",
       "633          Sunrisers Hyderabad        Kolkata Knight Riders   \n",
       "634                Gujarat Lions          Sunrisers Hyderabad   \n",
       "635          Sunrisers Hyderabad  Royal Challengers Bangalore   \n",
       "\n",
       "                          winner  \n",
       "0            Sunrisers Hyderabad  \n",
       "1         Rising Pune Supergiant  \n",
       "2          Kolkata Knight Riders  \n",
       "3                Kings XI Punjab  \n",
       "4    Royal Challengers Bangalore  \n",
       "..                           ...  \n",
       "631  Royal Challengers Bangalore  \n",
       "632  Royal Challengers Bangalore  \n",
       "633          Sunrisers Hyderabad  \n",
       "634          Sunrisers Hyderabad  \n",
       "635          Sunrisers Hyderabad  \n",
       "\n",
       "[636 rows x 3 columns]"
      ]
     },
     "execution_count": 4,
     "metadata": {},
     "output_type": "execute_result"
    }
   ],
   "source": [
    "# To collect more column data \n",
    "\n",
    "data[['team1','team2','winner']] # this is data frame"
   ]
  },
  {
   "cell_type": "code",
   "execution_count": 5,
   "id": "ec8736db",
   "metadata": {},
   "outputs": [
    {
     "data": {
      "text/plain": [
       "id                                                         1\n",
       "season                                                  2017\n",
       "city                                               Hyderabad\n",
       "date                                              2017-04-05\n",
       "team1                                    Sunrisers Hyderabad\n",
       "team2                            Royal Challengers Bangalore\n",
       "toss_winner                      Royal Challengers Bangalore\n",
       "toss_decision                                          field\n",
       "result                                                normal\n",
       "dl_applied                                                 0\n",
       "winner                                   Sunrisers Hyderabad\n",
       "win_by_runs                                               35\n",
       "win_by_wickets                                             0\n",
       "player_of_match                                 Yuvraj Singh\n",
       "venue              Rajiv Gandhi International Stadium, Uppal\n",
       "umpire1                                          AY Dandekar\n",
       "umpire2                                             NJ Llong\n",
       "umpire3                                                  NaN\n",
       "Name: 0, dtype: object"
      ]
     },
     "execution_count": 5,
     "metadata": {},
     "output_type": "execute_result"
    }
   ],
   "source": [
    "# To retriev specific column\n",
    "data.iloc[0] "
   ]
  },
  {
   "cell_type": "code",
   "execution_count": 6,
   "id": "3be10a2b",
   "metadata": {},
   "outputs": [
    {
     "data": {
      "text/html": [
       "<div>\n",
       "<style scoped>\n",
       "    .dataframe tbody tr th:only-of-type {\n",
       "        vertical-align: middle;\n",
       "    }\n",
       "\n",
       "    .dataframe tbody tr th {\n",
       "        vertical-align: top;\n",
       "    }\n",
       "\n",
       "    .dataframe thead th {\n",
       "        text-align: right;\n",
       "    }\n",
       "</style>\n",
       "<table border=\"1\" class=\"dataframe\">\n",
       "  <thead>\n",
       "    <tr style=\"text-align: right;\">\n",
       "      <th></th>\n",
       "      <th>season</th>\n",
       "      <th>city</th>\n",
       "    </tr>\n",
       "  </thead>\n",
       "  <tbody>\n",
       "    <tr>\n",
       "      <th>1</th>\n",
       "      <td>2017</td>\n",
       "      <td>Pune</td>\n",
       "    </tr>\n",
       "    <tr>\n",
       "      <th>3</th>\n",
       "      <td>2017</td>\n",
       "      <td>Indore</td>\n",
       "    </tr>\n",
       "    <tr>\n",
       "      <th>5</th>\n",
       "      <td>2017</td>\n",
       "      <td>Hyderabad</td>\n",
       "    </tr>\n",
       "    <tr>\n",
       "      <th>7</th>\n",
       "      <td>2017</td>\n",
       "      <td>Indore</td>\n",
       "    </tr>\n",
       "    <tr>\n",
       "      <th>9</th>\n",
       "      <td>2017</td>\n",
       "      <td>Mumbai</td>\n",
       "    </tr>\n",
       "    <tr>\n",
       "      <th>11</th>\n",
       "      <td>2017</td>\n",
       "      <td>Bangalore</td>\n",
       "    </tr>\n",
       "    <tr>\n",
       "      <th>13</th>\n",
       "      <td>2017</td>\n",
       "      <td>Kolkata</td>\n",
       "    </tr>\n",
       "  </tbody>\n",
       "</table>\n",
       "</div>"
      ],
      "text/plain": [
       "    season       city\n",
       "1     2017       Pune\n",
       "3     2017     Indore\n",
       "5     2017  Hyderabad\n",
       "7     2017     Indore\n",
       "9     2017     Mumbai\n",
       "11    2017  Bangalore\n",
       "13    2017    Kolkata"
      ]
     },
     "execution_count": 6,
     "metadata": {},
     "output_type": "execute_result"
    }
   ],
   "source": [
    "# To retriev specific column using slicing\n",
    "data.iloc[1:14:2,1:3]#[row, col] "
   ]
  },
  {
   "cell_type": "code",
   "execution_count": 7,
   "id": "8a6bdf06",
   "metadata": {},
   "outputs": [
    {
     "data": {
      "text/html": [
       "<div>\n",
       "<style scoped>\n",
       "    .dataframe tbody tr th:only-of-type {\n",
       "        vertical-align: middle;\n",
       "    }\n",
       "\n",
       "    .dataframe tbody tr th {\n",
       "        vertical-align: top;\n",
       "    }\n",
       "\n",
       "    .dataframe thead th {\n",
       "        text-align: right;\n",
       "    }\n",
       "</style>\n",
       "<table border=\"1\" class=\"dataframe\">\n",
       "  <thead>\n",
       "    <tr style=\"text-align: right;\">\n",
       "      <th></th>\n",
       "      <th>date</th>\n",
       "      <th>city</th>\n",
       "      <th>season</th>\n",
       "    </tr>\n",
       "  </thead>\n",
       "  <tbody>\n",
       "    <tr>\n",
       "      <th>2</th>\n",
       "      <td>2017-04-07</td>\n",
       "      <td>Rajkot</td>\n",
       "      <td>2017</td>\n",
       "    </tr>\n",
       "    <tr>\n",
       "      <th>24</th>\n",
       "      <td>2017-04-22</td>\n",
       "      <td>Pune</td>\n",
       "      <td>2017</td>\n",
       "    </tr>\n",
       "    <tr>\n",
       "      <th>5</th>\n",
       "      <td>2017-04-09</td>\n",
       "      <td>Hyderabad</td>\n",
       "      <td>2017</td>\n",
       "    </tr>\n",
       "  </tbody>\n",
       "</table>\n",
       "</div>"
      ],
      "text/plain": [
       "          date       city  season\n",
       "2   2017-04-07     Rajkot    2017\n",
       "24  2017-04-22       Pune    2017\n",
       "5   2017-04-09  Hyderabad    2017"
      ]
     },
     "execution_count": 7,
     "metadata": {},
     "output_type": "execute_result"
    }
   ],
   "source": [
    "# Retriev a column using a \" fancy indexing \"\n",
    "data.iloc[[2,24,5],[3,2,1]] # [Rows, column]"
   ]
  },
  {
   "cell_type": "code",
   "execution_count": 8,
   "id": "c43132ae",
   "metadata": {},
   "outputs": [
    {
     "data": {
      "text/plain": [
       "'\\niloc\\n'"
      ]
     },
     "execution_count": 8,
     "metadata": {},
     "output_type": "execute_result"
    }
   ],
   "source": [
    "\n",
    "\"\"\"\n",
    "iloc\n",
    "\"\"\""
   ]
  }
 ],
 "metadata": {
  "kernelspec": {
   "display_name": "Python 3",
   "language": "python",
   "name": "python3"
  },
  "language_info": {
   "codemirror_mode": {
    "name": "ipython",
    "version": 3
   },
   "file_extension": ".py",
   "mimetype": "text/x-python",
   "name": "python",
   "nbconvert_exporter": "python",
   "pygments_lexer": "ipython3",
   "version": "3.13.2"
  }
 },
 "nbformat": 4,
 "nbformat_minor": 5
}
