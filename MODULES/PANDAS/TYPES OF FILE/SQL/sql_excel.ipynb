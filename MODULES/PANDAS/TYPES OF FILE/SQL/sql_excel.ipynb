{
 "cells": [
  {
   "cell_type": "markdown",
   "id": "67e41f2a",
   "metadata": {},
   "source": [
    "sql to excel"
   ]
  },
  {
   "cell_type": "code",
   "execution_count": 2,
   "id": "3d7a12b9",
   "metadata": {},
   "outputs": [],
   "source": [
    "import pandas as pd \n",
    "import mysql.connector"
   ]
  },
  {
   "cell_type": "markdown",
   "id": "ccc8350c",
   "metadata": {},
   "source": [
    "we have to opean a work beanch and go to a SERVER and IMPORT DATA chose a data stored path of a sql and import a   data"
   ]
  },
  {
   "cell_type": "code",
   "execution_count": 5,
   "id": "e672a71c",
   "metadata": {},
   "outputs": [],
   "source": [
    "con = mysql.connector.connect(password = 'lalithR838@', host = 'localhost', user = 'root', database = 'world')"
   ]
  },
  {
   "cell_type": "code",
   "execution_count": 21,
   "id": "ac070bcd",
   "metadata": {},
   "outputs": [
    {
     "name": "stderr",
     "output_type": "stream",
     "text": [
      "C:\\Users\\LALITH RAJ R\\AppData\\Local\\Temp\\ipykernel_19512\\3288624409.py:1: UserWarning: pandas only supports SQLAlchemy connectable (engine/connection) or database string URI or sqlite3 DBAPI2 connection. Other DBAPI2 objects are not tested. Please consider using SQLAlchemy.\n",
      "  city = pd.read_sql_query(\"select * from city;\", con)\n"
     ]
    }
   ],
   "source": [
    "city = pd.read_sql_query(\"select * from city;\", con)\n",
    "#city.to_csv('city.csv', index = False)"
   ]
  },
  {
   "cell_type": "code",
   "execution_count": null,
   "id": "cee79ea1",
   "metadata": {},
   "outputs": [],
   "source": []
  }
 ],
 "metadata": {
  "kernelspec": {
   "display_name": ".venv",
   "language": "python",
   "name": "python3"
  },
  "language_info": {
   "codemirror_mode": {
    "name": "ipython",
    "version": 3
   },
   "file_extension": ".py",
   "mimetype": "text/x-python",
   "name": "python",
   "nbconvert_exporter": "python",
   "pygments_lexer": "ipython3",
   "version": "3.13.2"
  }
 },
 "nbformat": 4,
 "nbformat_minor": 5
}
