{
 "cells": [
  {
   "cell_type": "markdown",
   "id": "298b00cf",
   "metadata": {},
   "source": [
    "rapidapi.com"
   ]
  },
  {
   "cell_type": "code",
   "execution_count": 1,
   "id": "f8311bb0",
   "metadata": {},
   "outputs": [],
   "source": [
    "import pandas as pd\n",
    "import requests"
   ]
  },
  {
   "cell_type": "code",
   "execution_count": null,
   "id": "b32428a1",
   "metadata": {},
   "outputs": [],
   "source": [
    "response = requests.get('link with api')"
   ]
  },
  {
   "cell_type": "code",
   "execution_count": null,
   "id": "4c73366a",
   "metadata": {},
   "outputs": [],
   "source": [
    "#it will explicitely convert a data to a json\n",
    "j_son = response.json()"
   ]
  },
  {
   "cell_type": "code",
   "execution_count": null,
   "id": "35a319f6",
   "metadata": {},
   "outputs": [],
   "source": [
    "# to convert a data in to a pandas dataframe\n",
    "df = pd.DataFrame(j_son)\n",
    "#Here we will get a dataframe we can extract a data "
   ]
  },
  {
   "cell_type": "code",
   "execution_count": null,
   "id": "f0d16a13",
   "metadata": {},
   "outputs": [],
   "source": [
    "#There are more number of a page in api so \n",
    "completedf = pd.DataFrame()\n",
    "n = 4 # Number of a page in json formate\n",
    "for i in range(1,n):\n",
    "    res = requests.get(\"paste a url and formate a string here to a last page a url\")\n",
    "    temp_df = pd.DataFrame(res.json())\n",
    "    df.append(temp_df, ignore_index = True)"
   ]
  }
 ],
 "metadata": {
  "kernelspec": {
   "display_name": ".venv",
   "language": "python",
   "name": "python3"
  },
  "language_info": {
   "codemirror_mode": {
    "name": "ipython",
    "version": 3
   },
   "file_extension": ".py",
   "mimetype": "text/x-python",
   "name": "python",
   "nbconvert_exporter": "python",
   "pygments_lexer": "ipython3",
   "version": "3.13.2"
  }
 },
 "nbformat": 4,
 "nbformat_minor": 5
}
