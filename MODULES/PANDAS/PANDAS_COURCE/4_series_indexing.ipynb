{
 "cells": [
  {
   "cell_type": "code",
   "execution_count": 7,
   "id": "b5650f2e",
   "metadata": {},
   "outputs": [],
   "source": [
    "import pandas as pd\n",
    "import numpy as np"
   ]
  },
  {
   "cell_type": "code",
   "execution_count": 8,
   "id": "a2d144bc",
   "metadata": {},
   "outputs": [
    {
     "data": {
      "text/plain": [
       "0       48\n",
       "1       57\n",
       "2       40\n",
       "3       43\n",
       "4       44\n",
       "      ... \n",
       "360    231\n",
       "361    226\n",
       "362    155\n",
       "363    144\n",
       "364    172\n",
       "Name: Subscribers gained, Length: 365, dtype: int64"
      ]
     },
     "execution_count": 8,
     "metadata": {},
     "output_type": "execute_result"
    }
   ],
   "source": [
    "cricket_data = pd.read_csv('kohli_ipl.csv',index_col='match_no')['runs']\n",
    "movie_data  = pd.read_csv('bollywood.csv',index_col='movie')['lead']\n",
    "subs_data = pd.read_csv('subs.csv')['Subscribers gained']\n",
    "subs_data"
   ]
  },
  {
   "cell_type": "code",
   "execution_count": 9,
   "id": "bbf07baa",
   "metadata": {},
   "outputs": [
    {
     "data": {
      "text/plain": [
       "17"
      ]
     },
     "execution_count": 9,
     "metadata": {},
     "output_type": "execute_result"
    }
   ],
   "source": [
    "#series will work only work on -ve indexing for string\n",
    "x = pd.Series([12,13,14,15,16,17,18,19,20,21])\n",
    "x[5].item()\n"
   ]
  },
  {
   "cell_type": "code",
   "execution_count": 10,
   "id": "4f2533f4",
   "metadata": {},
   "outputs": [
    {
     "data": {
      "text/plain": [
       "match_no\n",
       "2     23\n",
       "4     12\n",
       "58    22\n",
       "3     13\n",
       "Name: runs, dtype: int64"
      ]
     },
     "execution_count": 10,
     "metadata": {},
     "output_type": "execute_result"
    }
   ],
   "source": [
    "#Fancy indexing\n",
    "movie_data['Hum Tumhare Hain Sanam']\n",
    "cricket_data[[2,4,58,3]]"
   ]
  },
  {
   "cell_type": "markdown",
   "id": "5a029f2e",
   "metadata": {},
   "source": [
    "<h2>Slicing</h2>"
   ]
  },
  {
   "cell_type": "code",
   "execution_count": 11,
   "id": "887ac0fd",
   "metadata": {},
   "outputs": [
    {
     "data": {
      "text/plain": [
       "match_no\n",
       "6      9\n",
       "7     34\n",
       "8      0\n",
       "9     21\n",
       "10     3\n",
       "11    10\n",
       "12    38\n",
       "13     3\n",
       "14    11\n",
       "15    50\n",
       "Name: runs, dtype: int64"
      ]
     },
     "execution_count": 11,
     "metadata": {},
     "output_type": "execute_result"
    }
   ],
   "source": [
    "cricket_data[5:15]"
   ]
  },
  {
   "cell_type": "markdown",
   "id": "a60da47d",
   "metadata": {},
   "source": [
    "Editing Series"
   ]
  },
  {
   "cell_type": "code",
   "execution_count": null,
   "id": "7820962f",
   "metadata": {},
   "outputs": [],
   "source": []
  }
 ],
 "metadata": {
  "kernelspec": {
   "display_name": "Python 3",
   "language": "python",
   "name": "python3"
  },
  "language_info": {
   "codemirror_mode": {
    "name": "ipython",
    "version": 3
   },
   "file_extension": ".py",
   "mimetype": "text/x-python",
   "name": "python",
   "nbconvert_exporter": "python",
   "pygments_lexer": "ipython3",
   "version": "3.13.2"
  }
 },
 "nbformat": 4,
 "nbformat_minor": 5
}
