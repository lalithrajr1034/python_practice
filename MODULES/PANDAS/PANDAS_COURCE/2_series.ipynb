{
 "cells": [
  {
   "cell_type": "code",
   "execution_count": 33,
   "id": "a02e8274",
   "metadata": {},
   "outputs": [],
   "source": [
    "# Series is a single column data \n",
    "import numpy as np\n",
    "import pandas as pd"
   ]
  },
  {
   "cell_type": "code",
   "execution_count": 34,
   "id": "dfbbe8dd",
   "metadata": {},
   "outputs": [
    {
     "data": {
      "text/plain": [
       "0        India\n",
       "1          USA\n",
       "2    Australia\n",
       "3     Srilanka\n",
       "dtype: object"
      ]
     },
     "execution_count": 34,
     "metadata": {},
     "output_type": "execute_result"
    }
   ],
   "source": [
    "# convert a list in to a series\n",
    "country = ['India', 'USA', 'Australia', 'Srilanka']\n",
    "pd.Series(country)"
   ]
  },
  {
   "cell_type": "code",
   "execution_count": 35,
   "id": "a5ad7305",
   "metadata": {},
   "outputs": [
    {
     "name": "stdout",
     "output_type": "stream",
     "text": [
      "0     23\n",
      "1     25\n",
      "2    200\n",
      "3     34\n",
      "4    100\n",
      "dtype: int16\n"
     ]
    }
   ],
   "source": [
    "runs = [23,25,200,34,100]\n",
    "s = pd.Series(runs,dtype=\"int16\")\n",
    "print(s)"
   ]
  },
  {
   "cell_type": "code",
   "execution_count": 36,
   "id": "76f36262",
   "metadata": {},
   "outputs": [
    {
     "data": {
      "text/plain": [
       "maths      100\n",
       "science     99\n",
       "hindi       50\n",
       "English     68\n",
       "dtype: int8"
      ]
     },
     "execution_count": 36,
     "metadata": {},
     "output_type": "execute_result"
    }
   ],
   "source": [
    "# custom index\n",
    "marks = [100, 99,50,68]\n",
    "subjects = ['maths','science','hindi','English']\n",
    "pd.Series(marks,index=subjects,dtype=\"int8\")"
   ]
  },
  {
   "cell_type": "code",
   "execution_count": 37,
   "id": "43321f35",
   "metadata": {},
   "outputs": [
    {
     "data": {
      "text/plain": [
       "maths      100\n",
       "science     99\n",
       "hindi       50\n",
       "English     68\n",
       "Name: lalith marks, dtype: int8"
      ]
     },
     "execution_count": 37,
     "metadata": {},
     "output_type": "execute_result"
    }
   ],
   "source": [
    "#Setting name.........(11)\n",
    "pd.Series(marks,index=subjects,name='lalith marks',dtype='int8')"
   ]
  },
  {
   "cell_type": "markdown",
   "id": "708f7ef2",
   "metadata": {},
   "source": [
    "Series from dict"
   ]
  },
  {
   "cell_type": "code",
   "execution_count": 38,
   "id": "077095f3",
   "metadata": {},
   "outputs": [
    {
     "data": {
      "text/plain": [
       "maths      38\n",
       "kannada    98\n",
       "hindi      30\n",
       "Science    99\n",
       "Name: lalith dict, dtype: int8"
      ]
     },
     "execution_count": 38,
     "metadata": {},
     "output_type": "execute_result"
    }
   ],
   "source": [
    "# we can create a series \n",
    "marks = {\n",
    "    'maths'  : 38,\n",
    "    'kannada': 98,\n",
    "    'hindi'  : 30,\n",
    "    'Science': 99\n",
    "}\n",
    "ans = pd.Series(marks,name=\"lalith dict\",dtype='int8')\n",
    "ans"
   ]
  },
  {
   "cell_type": "markdown",
   "id": "287b7733",
   "metadata": {},
   "source": [
    "Series Attributes"
   ]
  },
  {
   "cell_type": "code",
   "execution_count": 39,
   "id": "06236831",
   "metadata": {},
   "outputs": [
    {
     "data": {
      "text/plain": [
       "4"
      ]
     },
     "execution_count": 39,
     "metadata": {},
     "output_type": "execute_result"
    }
   ],
   "source": [
    "# size --it will specify how many items are there\n",
    "ans.size"
   ]
  },
  {
   "cell_type": "code",
   "execution_count": 40,
   "id": "8aee1e2f",
   "metadata": {},
   "outputs": [
    {
     "data": {
      "text/plain": [
       "dtype('int8')"
      ]
     },
     "execution_count": 40,
     "metadata": {},
     "output_type": "execute_result"
    }
   ],
   "source": [
    "#dtype\n",
    "ans.dtype"
   ]
  },
  {
   "cell_type": "code",
   "execution_count": 41,
   "id": "84596531",
   "metadata": {},
   "outputs": [
    {
     "data": {
      "text/plain": [
       "'lalith dict'"
      ]
     },
     "execution_count": 41,
     "metadata": {},
     "output_type": "execute_result"
    }
   ],
   "source": [
    "#name -- say the name of the series \n",
    "ans.name"
   ]
  },
  {
   "cell_type": "code",
   "execution_count": 45,
   "id": "c2c5d888",
   "metadata": {},
   "outputs": [
    {
     "data": {
      "text/plain": [
       "True"
      ]
     },
     "execution_count": 45,
     "metadata": {},
     "output_type": "execute_result"
    }
   ],
   "source": [
    "# it will say all the items are unique even 1 element is also repeated it will return as false\n",
    "ans.is_unique"
   ]
  },
  {
   "cell_type": "code",
   "execution_count": 47,
   "id": "5bd544ea",
   "metadata": {},
   "outputs": [
    {
     "data": {
      "text/plain": [
       "Index(['maths', 'kannada', 'hindi', 'Science'], dtype='object')"
      ]
     },
     "execution_count": 47,
     "metadata": {},
     "output_type": "execute_result"
    }
   ],
   "source": [
    "#index--get all index value\n",
    "ans.index"
   ]
  },
  {
   "cell_type": "code",
   "execution_count": 49,
   "id": "220dbb8f",
   "metadata": {},
   "outputs": [
    {
     "data": {
      "text/plain": [
       "array([38, 98, 30, 99], dtype=int8)"
      ]
     },
     "execution_count": 49,
     "metadata": {},
     "output_type": "execute_result"
    }
   ],
   "source": [
    "#values\n",
    "ans.values\n",
    "#ans.values[2]"
   ]
  },
  {
   "cell_type": "code",
   "execution_count": null,
   "id": "6c26e786",
   "metadata": {},
   "outputs": [],
   "source": []
  }
 ],
 "metadata": {
  "kernelspec": {
   "display_name": "Python 3",
   "language": "python",
   "name": "python3"
  },
  "language_info": {
   "codemirror_mode": {
    "name": "ipython",
    "version": 3
   },
   "file_extension": ".py",
   "mimetype": "text/x-python",
   "name": "python",
   "nbconvert_exporter": "python",
   "pygments_lexer": "ipython3",
   "version": "3.13.2"
  }
 },
 "nbformat": 4,
 "nbformat_minor": 5
}
