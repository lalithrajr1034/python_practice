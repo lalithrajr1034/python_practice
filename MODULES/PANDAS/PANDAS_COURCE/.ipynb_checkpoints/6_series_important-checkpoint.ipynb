{
 "cells": [
  {
   "cell_type": "code",
   "execution_count": 2,
   "id": "293b0e8c",
   "metadata": {},
   "outputs": [],
   "source": [
    "import pandas as pd"
   ]
  },
  {
   "cell_type": "code",
   "execution_count": 80,
   "id": "b51967ff",
   "metadata": {},
   "outputs": [
    {
     "data": {
      "text/plain": [
       "0       48\n",
       "1       57\n",
       "2       40\n",
       "3       43\n",
       "4       44\n",
       "      ... \n",
       "360    231\n",
       "361    226\n",
       "362    155\n",
       "363    144\n",
       "364    172\n",
       "Name: Subscribers gained, Length: 365, dtype: int64"
      ]
     },
     "execution_count": 80,
     "metadata": {},
     "output_type": "execute_result"
    }
   ],
   "source": [
    "cricker_data = pd.read_csv(\"kohli_ipl.csv\", index_col=\"match_no\")[\"runs\"]\n",
    "movie_data = pd.read_csv(\"bollywood.csv\", index_col=\"movie\")[\"lead\"]\n",
    "sub_data = pd.read_csv(\"subs.csv\")[\"Subscribers gained\"]\n",
    "cricker_data\n",
    "movie_data\n",
    "sub_data"
   ]
  },
  {
   "cell_type": "code",
   "execution_count": 13,
   "id": "e2afd83d",
   "metadata": {},
   "outputs": [
    {
     "data": {
      "text/plain": [
       "match_no\n",
       "1       1\n",
       "2      23\n",
       "3      13\n",
       "4      12\n",
       "5       1\n",
       "       ..\n",
       "211     0\n",
       "212    20\n",
       "213    73\n",
       "214    25\n",
       "215     7\n",
       "Name: runs, Length: 215, dtype: int16"
      ]
     },
     "execution_count": 13,
     "metadata": {},
     "output_type": "execute_result"
    }
   ],
   "source": [
    "#astype\n",
    "cricker_data.astype(\"int16\")"
   ]
  },
  {
   "cell_type": "code",
   "execution_count": 19,
   "id": "941d8b5a",
   "metadata": {},
   "outputs": [
    {
     "data": {
      "text/plain": [
       "match_no\n",
       "34     58\n",
       "41     71\n",
       "44     56\n",
       "45     67\n",
       "52     70\n",
       "57     57\n",
       "68     73\n",
       "71     51\n",
       "73     58\n",
       "74     65\n",
       "80     57\n",
       "81     93\n",
       "82     99\n",
       "85     56\n",
       "97     67\n",
       "99     73\n",
       "103    51\n",
       "104    62\n",
       "110    82\n",
       "116    75\n",
       "117    79\n",
       "119    80\n",
       "122    52\n",
       "127    75\n",
       "129    54\n",
       "131    54\n",
       "132    62\n",
       "134    64\n",
       "137    55\n",
       "141    58\n",
       "144    57\n",
       "145    92\n",
       "148    68\n",
       "152    70\n",
       "160    84\n",
       "162    67\n",
       "175    72\n",
       "178    90\n",
       "188    72\n",
       "197    51\n",
       "198    53\n",
       "209    58\n",
       "213    73\n",
       "Name: runs, dtype: int64"
      ]
     },
     "execution_count": 19,
     "metadata": {},
     "output_type": "execute_result"
    }
   ],
   "source": [
    "#between  both are included\n",
    "cricker_data[cricker_data.between(51,99)]"
   ]
  },
  {
   "cell_type": "code",
   "execution_count": 24,
   "id": "2657db65",
   "metadata": {},
   "outputs": [
    {
     "data": {
      "text/plain": [
       "0      100\n",
       "1      100\n",
       "2      100\n",
       "3      100\n",
       "4      100\n",
       "      ... \n",
       "360    200\n",
       "361    200\n",
       "362    155\n",
       "363    144\n",
       "364    172\n",
       "Name: Subscribers gained, Length: 365, dtype: int64"
      ]
     },
     "execution_count": 24,
     "metadata": {},
     "output_type": "execute_result"
    }
   ],
   "source": [
    "#clip\n",
    "sub_data.clip(100,200)\n",
    "#less than 100 all are 100 and greater than 200 all are 200 in between are same"
   ]
  },
  {
   "cell_type": "code",
   "execution_count": 28,
   "id": "38891631",
   "metadata": {},
   "outputs": [
    {
     "data": {
      "text/plain": [
       "0      2\n",
       "1      4\n",
       "2    255\n",
       "3      2\n",
       "4      2\n",
       "5      5\n",
       "6      4\n",
       "7      7\n",
       "dtype: int64"
      ]
     },
     "execution_count": 28,
     "metadata": {},
     "output_type": "execute_result"
    }
   ],
   "source": [
    "# drop duplicate \n",
    "temp = pd.Series([2,4,255,2,2,5,4,7])\n",
    "temp"
   ]
  },
  {
   "cell_type": "code",
   "execution_count": null,
   "id": "ccd7427f",
   "metadata": {},
   "outputs": [
    {
     "data": {
      "text/plain": [
       "<bound method Series.duplicated of 0      2\n",
       "1      4\n",
       "2    255\n",
       "3      2\n",
       "4      2\n",
       "5      5\n",
       "6      4\n",
       "7      7\n",
       "dtype: int64>"
      ]
     },
     "execution_count": 31,
     "metadata": {},
     "output_type": "execute_result"
    }
   ],
   "source": [
    "#to check the duplicate value\n",
    "temp.duplicated"
   ]
  },
  {
   "cell_type": "code",
   "execution_count": 30,
   "id": "b463e205",
   "metadata": {},
   "outputs": [
    {
     "data": {
      "text/plain": [
       "0      2\n",
       "1      4\n",
       "2    255\n",
       "5      5\n",
       "7      7\n",
       "dtype: int64"
      ]
     },
     "execution_count": 30,
     "metadata": {},
     "output_type": "execute_result"
    }
   ],
   "source": [
    "temp.drop_duplicates()\n",
    "#temp.drop_duplicates(keep = 'last')  # it will first last item"
   ]
  },
  {
   "cell_type": "code",
   "execution_count": 36,
   "id": "24701787",
   "metadata": {},
   "outputs": [
    {
     "data": {
      "text/plain": [
       "movie\n",
       "Uri: The Surgical Strike                   Vicky Kaushal\n",
       "Battalion 609                                Vicky Ahuja\n",
       "The Accidental Prime Minister (film)         Anupam Kher\n",
       "Why Cheat India                            Emraan Hashmi\n",
       "Evening Shadows                         Mona Ambegaonkar\n",
       "                                              ...       \n",
       "Sssshhh...                              Tanishaa Mukerji\n",
       "Rules: Pyaar Ka Superhit Formula                  Tanuja\n",
       "Right Here Right Now (film)                        Ankit\n",
       "Talaash: The Hunt Begins...                Rakhee Gulzar\n",
       "The Pink Mirror                          Edwin Fernandes\n",
       "Name: lead, Length: 566, dtype: object"
      ]
     },
     "execution_count": 36,
     "metadata": {},
     "output_type": "execute_result"
    }
   ],
   "source": [
    "movie_data[movie_data.duplicated()] # to get a duplicate data\n",
    "movie_data.drop_duplicates()# To get a nonrepeated val"
   ]
  },
  {
   "cell_type": "code",
   "execution_count": 59,
   "id": "f70b387f",
   "metadata": {},
   "outputs": [
    {
     "data": {
      "text/plain": [
       "0      1.0\n",
       "1      3.0\n",
       "2      4.0\n",
       "3     64.0\n",
       "4      NaN\n",
       "5      9.0\n",
       "6     34.0\n",
       "7    923.0\n",
       "8     20.0\n",
       "dtype: float64"
      ]
     },
     "execution_count": 59,
     "metadata": {},
     "output_type": "execute_result"
    }
   ],
   "source": [
    "# isnull\n",
    "a = 9\n",
    "h =923\n",
    "temp = pd.Series([1, 3, 4, 64, None, a, 34, h, 20])\n",
    "temp"
   ]
  },
  {
   "cell_type": "code",
   "execution_count": 60,
   "id": "14c74f65",
   "metadata": {},
   "outputs": [
    {
     "data": {
      "text/plain": [
       "np.int64(8)"
      ]
     },
     "execution_count": 60,
     "metadata": {},
     "output_type": "execute_result"
    }
   ],
   "source": [
    "#count will find a missing values only \n",
    "temp.count()"
   ]
  },
  {
   "cell_type": "code",
   "execution_count": 61,
   "id": "153a791c",
   "metadata": {},
   "outputs": [
    {
     "data": {
      "text/plain": [
       "0    False\n",
       "1    False\n",
       "2    False\n",
       "3    False\n",
       "4     True\n",
       "5    False\n",
       "6    False\n",
       "7    False\n",
       "8    False\n",
       "dtype: bool"
      ]
     },
     "execution_count": 61,
     "metadata": {},
     "output_type": "execute_result"
    }
   ],
   "source": [
    "temp.isnull()"
   ]
  },
  {
   "cell_type": "code",
   "execution_count": null,
   "id": "fb339d53",
   "metadata": {},
   "outputs": [
    {
     "data": {
      "text/plain": [
       "0      1\n",
       "1      3\n",
       "2      4\n",
       "3     64\n",
       "5    fsf\n",
       "6     34\n",
       "7     bf\n",
       "8     20\n",
       "dtype: object"
      ]
     },
     "execution_count": 53,
     "metadata": {},
     "output_type": "execute_result"
    }
   ],
   "source": [
    "#to remove a all missing value \n",
    "temp.dropna()"
   ]
  },
  {
   "cell_type": "code",
   "execution_count": 63,
   "id": "a8bacfa6",
   "metadata": {},
   "outputs": [
    {
     "data": {
      "text/plain": [
       "0      1.00\n",
       "1      3.00\n",
       "2      4.00\n",
       "3     64.00\n",
       "4    132.25\n",
       "5      9.00\n",
       "6     34.00\n",
       "7    923.00\n",
       "8     20.00\n",
       "dtype: float64"
      ]
     },
     "execution_count": 63,
     "metadata": {},
     "output_type": "execute_result"
    }
   ],
   "source": [
    "#to fill the nullvalue\n",
    "temp.fillna(100)\n",
    "temp.fillna(temp.mean())  # fill the none value by mean"
   ]
  },
  {
   "cell_type": "code",
   "execution_count": 72,
   "id": "c75bfa6c",
   "metadata": {},
   "outputs": [
    {
     "data": {
      "text/plain": [
       "match_no\n",
       "44     56\n",
       "82     99\n",
       "85     56\n",
       "86     49\n",
       "118    33\n",
       "181    33\n",
       "185    33\n",
       "186    33\n",
       "Name: runs, dtype: int64"
      ]
     },
     "execution_count": 72,
     "metadata": {},
     "output_type": "execute_result"
    }
   ],
   "source": [
    "# isin it will check the given values ARE IN the dataset\n",
    "\n",
    "# check virat is out for 49,99,56,33 and more \n",
    "cricker_data[(cricker_data == 49) | (cricker_data == 99)] #this is good not scalable so we use a isin\n",
    "\n",
    "cricker_data[cricker_data.isin([49,99,56,33])] # this is scalable code"
   ]
  },
  {
   "cell_type": "code",
   "execution_count": null,
   "id": "8666991b",
   "metadata": {},
   "outputs": [
    {
     "data": {
      "text/plain": [
       "movie\n",
       "Uri: The Surgical Strike                  VICKY\n",
       "Battalion 609                             VICKY\n",
       "The Accidental Prime Minister (film)     ANUPAM\n",
       "Why Cheat India                          EMRAAN\n",
       "Evening Shadows                            MONA\n",
       "                                         ...   \n",
       "Hum Tumhare Hain Sanam                     SHAH\n",
       "Aankhen (2002 film)                     AMITABH\n",
       "Saathiya (film)                           VIVEK\n",
       "Company (film)                             AJAY\n",
       "Awara Paagal Deewana                     AKSHAY\n",
       "Name: lead, Length: 1500, dtype: object"
      ]
     },
     "execution_count": 76,
     "metadata": {},
     "output_type": "execute_result"
    }
   ],
   "source": [
    "#apply : it helps to upplay a custom logic\n",
    "movie_data.apply(lambda x:x.split()[0].upper())\n",
    "\n",
    "#good and bad day\n",
    "sub_data.apply(lambda x :)"
   ]
  },
  {
   "cell_type": "code",
   "execution_count": null,
   "id": "ccdf63c5",
   "metadata": {},
   "outputs": [],
   "source": []
  },
  {
   "cell_type": "code",
   "execution_count": null,
   "id": "add54816",
   "metadata": {},
   "outputs": [],
   "source": []
  },
  {
   "cell_type": "code",
   "execution_count": null,
   "id": "9f476c40",
   "metadata": {},
   "outputs": [],
   "source": []
  },
  {
   "cell_type": "markdown",
   "id": "bb99bf96",
   "metadata": {},
   "source": [
    "astype<br>\n",
    "between<br>\n",
    "clip<br>\n",
    "drop_duplicates<br>\n",
    "isnull<br>\n",
    "fillna<br>\n",
    "isin<br>\n",
    "apply<br>\n",
    "copy<br>"
   ]
  }
 ],
 "metadata": {
  "kernelspec": {
   "display_name": "Python 3",
   "language": "python",
   "name": "python3"
  },
  "language_info": {
   "codemirror_mode": {
    "name": "ipython",
    "version": 3
   },
   "file_extension": ".py",
   "mimetype": "text/x-python",
   "name": "python",
   "nbconvert_exporter": "python",
   "pygments_lexer": "ipython3",
   "version": "3.13.2"
  }
 },
 "nbformat": 4,
 "nbformat_minor": 5
}
