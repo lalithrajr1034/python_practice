{
 "cells": [
  {
   "cell_type": "markdown",
   "id": "bfbe6453",
   "metadata": {},
   "source": [
    "Series using dataset"
   ]
  },
  {
   "cell_type": "code",
   "execution_count": 1,
   "id": "9b25ecb1",
   "metadata": {},
   "outputs": [],
   "source": [
    "import numpy as np\n",
    "import pandas as pd"
   ]
  },
  {
   "cell_type": "code",
   "execution_count": 2,
   "id": "c1c37f14",
   "metadata": {},
   "outputs": [
    {
     "data": {
      "text/html": [
       "<div>\n",
       "<style scoped>\n",
       "    .dataframe tbody tr th:only-of-type {\n",
       "        vertical-align: middle;\n",
       "    }\n",
       "\n",
       "    .dataframe tbody tr th {\n",
       "        vertical-align: top;\n",
       "    }\n",
       "\n",
       "    .dataframe thead th {\n",
       "        text-align: right;\n",
       "    }\n",
       "</style>\n",
       "<table border=\"1\" class=\"dataframe\">\n",
       "  <thead>\n",
       "    <tr style=\"text-align: right;\">\n",
       "      <th></th>\n",
       "      <th>Subscribers gained</th>\n",
       "    </tr>\n",
       "  </thead>\n",
       "  <tbody>\n",
       "    <tr>\n",
       "      <th>0</th>\n",
       "      <td>48</td>\n",
       "    </tr>\n",
       "    <tr>\n",
       "      <th>1</th>\n",
       "      <td>57</td>\n",
       "    </tr>\n",
       "    <tr>\n",
       "      <th>2</th>\n",
       "      <td>40</td>\n",
       "    </tr>\n",
       "    <tr>\n",
       "      <th>3</th>\n",
       "      <td>43</td>\n",
       "    </tr>\n",
       "    <tr>\n",
       "      <th>4</th>\n",
       "      <td>44</td>\n",
       "    </tr>\n",
       "  </tbody>\n",
       "</table>\n",
       "</div>"
      ],
      "text/plain": [
       "   Subscribers gained\n",
       "0                  48\n",
       "1                  57\n",
       "2                  40\n",
       "3                  43\n",
       "4                  44"
      ]
     },
     "execution_count": 2,
     "metadata": {},
     "output_type": "execute_result"
    }
   ],
   "source": [
    "series_data = pd.read_csv('subs.csv')\n",
    "series_data.head()"
   ]
  },
  {
   "cell_type": "markdown",
   "id": "c9386246",
   "metadata": {},
   "source": [
    "# this data is in dataframe so we have to convert to Series\n",
    "series_data = pd.read_csv('subs.csv')['Subscribers gained']   :::best method\n",
    "series_data = pd.read_csv('subs.csv').iloc[:,0]                \n",
    "series_data.squeeze    ::: Good if you don’t know the column name and the file has only one column                                        "
   ]
  },
  {
   "cell_type": "code",
   "execution_count": 3,
   "id": "0c66ca35",
   "metadata": {},
   "outputs": [
    {
     "data": {
      "text/plain": [
       "0       48\n",
       "1       57\n",
       "2       40\n",
       "3       43\n",
       "4       44\n",
       "      ... \n",
       "360    231\n",
       "361    226\n",
       "362    155\n",
       "363    144\n",
       "364    172\n",
       "Name: Subscribers gained, Length: 365, dtype: int64"
      ]
     },
     "execution_count": 3,
     "metadata": {},
     "output_type": "execute_result"
    }
   ],
   "source": [
    "# series_data.squeeze\n",
    "subs_data = pd.read_csv('subs.csv')['Subscribers gained']\n",
    "# series_data = pd.read_csv('subs.csv').iloc[:,0]   \n",
    "             \n",
    "subs_data"
   ]
  },
  {
   "cell_type": "markdown",
   "id": "12b6b21f",
   "metadata": {},
   "source": [
    "Cricket data"
   ]
  },
  {
   "cell_type": "code",
   "execution_count": 4,
   "id": "dc75604c",
   "metadata": {},
   "outputs": [
    {
     "data": {
      "text/plain": [
       "match_no\n",
       " 1      1\n",
       " 2     23\n",
       " 3     13\n",
       " 4     12\n",
       " 5      1\n",
       "       ..\n",
       "-45     0\n",
       "-44    20\n",
       "-43    73\n",
       "-42    25\n",
       "-41     7\n",
       "Name: runs, Length: 215, dtype: int8"
      ]
     },
     "execution_count": 4,
     "metadata": {},
     "output_type": "execute_result"
    }
   ],
   "source": [
    "cricket_data = pd.read_csv(\"kohli_ipl.csv\",index_col=\"match_no\",dtype=\"int8\")['runs']\n",
    "cricket_data"
   ]
  },
  {
   "cell_type": "markdown",
   "id": "e6a77eb9",
   "metadata": {},
   "source": [
    "Movies dataset"
   ]
  },
  {
   "cell_type": "code",
   "execution_count": 5,
   "id": "328cacc7",
   "metadata": {},
   "outputs": [
    {
     "data": {
      "text/plain": [
       "movie\n",
       "Uri: The Surgical Strike                   Vicky Kaushal\n",
       "Battalion 609                                Vicky Ahuja\n",
       "The Accidental Prime Minister (film)         Anupam Kher\n",
       "Why Cheat India                            Emraan Hashmi\n",
       "Evening Shadows                         Mona Ambegaonkar\n",
       "                                              ...       \n",
       "Hum Tumhare Hain Sanam                    Shah Rukh Khan\n",
       "Aankhen (2002 film)                     Amitabh Bachchan\n",
       "Saathiya (film)                             Vivek Oberoi\n",
       "Company (film)                                Ajay Devgn\n",
       "Awara Paagal Deewana                        Akshay Kumar\n",
       "Name: lead, Length: 1500, dtype: object"
      ]
     },
     "execution_count": 5,
     "metadata": {},
     "output_type": "execute_result"
    }
   ],
   "source": [
    "movie_data = pd.read_csv(\"bollywood.csv\",index_col='movie')['lead']\n",
    "movie_data"
   ]
  },
  {
   "cell_type": "markdown",
   "id": "d705fb58",
   "metadata": {},
   "source": [
    "<h4>Series Method</h4>"
   ]
  },
  {
   "cell_type": "code",
   "execution_count": 6,
   "id": "5a3b2a05",
   "metadata": {},
   "outputs": [
    {
     "data": {
      "text/plain": [
       "360    231\n",
       "361    226\n",
       "362    155\n",
       "363    144\n",
       "364    172\n",
       "Name: Subscribers gained, dtype: int64"
      ]
     },
     "execution_count": 6,
     "metadata": {},
     "output_type": "execute_result"
    }
   ],
   "source": [
    "#head and tail\n",
    "subs_data.head(7)\n",
    "subs_data.tail()"
   ]
  },
  {
   "cell_type": "code",
   "execution_count": 7,
   "id": "413b8e2e",
   "metadata": {},
   "outputs": [
    {
     "data": {
      "text/plain": [
       "movie\n",
       "Toonpur Ka Super Hero         Ajay Devgn\n",
       "Julie 2                  Nishikant Kamat\n",
       "Ragini MMS               Kainaz Motivala\n",
       "Name: lead, dtype: object"
      ]
     },
     "execution_count": 7,
     "metadata": {},
     "output_type": "execute_result"
    }
   ],
   "source": [
    "# sample  it will select a random column and show\n",
    "# and we can specify random 5 or any \n",
    "movie_data.sample(3)"
   ]
  },
  {
   "cell_type": "code",
   "execution_count": 8,
   "id": "df086722",
   "metadata": {},
   "outputs": [
    {
     "data": {
      "text/plain": [
       "lead\n",
       "Akshay Kumar            48\n",
       "Amitabh Bachchan        45\n",
       "Ajay Devgn              38\n",
       "Salman Khan             31\n",
       "Sanjay Dutt             26\n",
       "                        ..\n",
       "Tanishaa Mukerji         1\n",
       "Tanuja                   1\n",
       "Ankit                    1\n",
       "Rakhee Gulzar            1\n",
       "Geetika Vidya Ohlyan     1\n",
       "Name: count, Length: 566, dtype: int64"
      ]
     },
     "execution_count": 8,
     "metadata": {},
     "output_type": "execute_result"
    }
   ],
   "source": [
    "# value_counts  ::to calculate a frequency of a unique\n",
    "# say how many movies are made by a person\n",
    "movie_data.value_counts()"
   ]
  },
  {
   "cell_type": "code",
   "execution_count": 9,
   "id": "3fbc1ea1",
   "metadata": {},
   "outputs": [
    {
     "data": {
      "text/plain": [
       "match_no\n",
       "-128    113\n",
       " 126    109\n",
       " 123    108\n",
       "-92     100\n",
       " 120    100\n",
       "Name: runs, dtype: int8"
      ]
     },
     "execution_count": 9,
     "metadata": {},
     "output_type": "execute_result"
    }
   ],
   "source": [
    "#sort ::in assending\n",
    "# for a parmenant changes inplace=True\"\n",
    "cricket_data.sort_values(ascending=False).head()"
   ]
  },
  {
   "cell_type": "code",
   "execution_count": 10,
   "id": "922e8811",
   "metadata": {},
   "outputs": [
    {
     "data": {
      "text/plain": [
       "movie\n",
       "Zindagi 50-50                      Veena Malik\n",
       "Zindagi Na Milegi Dobara        Hrithik Roshan\n",
       "Zindagi Tere Naam           Mithun Chakraborty\n",
       "Zokkomon                       Darsheel Safary\n",
       "Zor Lagaa Ke...Haiya!            Meghan Jadhav\n",
       "Name: lead, dtype: object"
      ]
     },
     "execution_count": 10,
     "metadata": {},
     "output_type": "execute_result"
    }
   ],
   "source": [
    "#if we make a inplace as a true then data is permanently sorted\n",
    "movie_data.sort_index(ascending=True).tail()"
   ]
  },
  {
   "cell_type": "markdown",
   "id": "6216e7af",
   "metadata": {},
   "source": [
    "Series maths Method"
   ]
  },
  {
   "cell_type": "code",
   "execution_count": 11,
   "id": "78ecca8d",
   "metadata": {},
   "outputs": [
    {
     "data": {
      "text/plain": [
       "np.int16(215)"
      ]
     },
     "execution_count": 11,
     "metadata": {},
     "output_type": "execute_result"
    }
   ],
   "source": [
    "# Count :: will not calculate a missing value but size will calculate a missing value\n",
    "cricket_data.count().astype(\"int16\")"
   ]
  },
  {
   "cell_type": "code",
   "execution_count": 12,
   "id": "d532c8d7",
   "metadata": {},
   "outputs": [
    {
     "data": {
      "text/plain": [
       "49510"
      ]
     },
     "execution_count": 12,
     "metadata": {},
     "output_type": "execute_result"
    }
   ],
   "source": [
    "# Sum\n",
    "subs_data.sum().item()"
   ]
  },
  {
   "cell_type": "code",
   "execution_count": 13,
   "id": "695bdbb3",
   "metadata": {},
   "outputs": [
    {
     "data": {
      "text/plain": [
       "135.64383561643837"
      ]
     },
     "execution_count": 13,
     "metadata": {},
     "output_type": "execute_result"
    }
   ],
   "source": [
    "# mean\n",
    "subs_data.mean().item()"
   ]
  },
  {
   "cell_type": "code",
   "execution_count": 14,
   "id": "e053fe4e",
   "metadata": {},
   "outputs": [
    {
     "data": {
      "text/plain": [
       "np.float64(123.0)"
      ]
     },
     "execution_count": 14,
     "metadata": {},
     "output_type": "execute_result"
    }
   ],
   "source": [
    "# middle number\n",
    "subs_data.median()"
   ]
  },
  {
   "cell_type": "code",
   "execution_count": 15,
   "id": "503ce814",
   "metadata": {},
   "outputs": [
    {
     "data": {
      "text/plain": [
       "0    105\n",
       "Name: Subscribers gained, dtype: int64"
      ]
     },
     "execution_count": 15,
     "metadata": {},
     "output_type": "execute_result"
    }
   ],
   "source": [
    "# mode more repeating\n",
    "subs_data.mode()"
   ]
  },
  {
   "cell_type": "code",
   "execution_count": 16,
   "id": "1e3c4346",
   "metadata": {},
   "outputs": [
    {
     "data": {
      "text/plain": [
       "np.int64(396)"
      ]
     },
     "execution_count": 16,
     "metadata": {},
     "output_type": "execute_result"
    }
   ],
   "source": [
    "subs_data.min()\n",
    "subs_data.max()"
   ]
  },
  {
   "cell_type": "code",
   "execution_count": 17,
   "id": "945ae581",
   "metadata": {},
   "outputs": [
    {
     "data": {
      "text/plain": [
       "count    215.000000\n",
       "mean      30.855814\n",
       "std       26.229801\n",
       "min        0.000000\n",
       "25%        9.000000\n",
       "50%       24.000000\n",
       "75%       48.000000\n",
       "max      113.000000\n",
       "Name: runs, dtype: float32"
      ]
     },
     "execution_count": 17,
     "metadata": {},
     "output_type": "execute_result"
    }
   ],
   "source": [
    "# describes :: gives all maths\n",
    "cricket_data.describe().astype(\"float32\")"
   ]
  },
  {
   "cell_type": "markdown",
   "id": "3d72d451",
   "metadata": {},
   "source": [
    "1.head()<br>\n",
    "2.tail()<br>\n",
    "3.sample()<br>\n",
    "4.value_counts()<br>\n",
    "4.sort_values() ::: sort_index()<br>\n",
    "5.sum() ::: product() ::: item()"
   ]
  }
 ],
 "metadata": {
  "kernelspec": {
   "display_name": "Python 3",
   "language": "python",
   "name": "python3"
  },
  "language_info": {
   "codemirror_mode": {
    "name": "ipython",
    "version": 3
   },
   "file_extension": ".py",
   "mimetype": "text/x-python",
   "name": "python",
   "nbconvert_exporter": "python",
   "pygments_lexer": "ipython3",
   "version": "3.13.2"
  }
 },
 "nbformat": 4,
 "nbformat_minor": 5
}
